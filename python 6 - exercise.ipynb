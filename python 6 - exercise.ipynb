{
 "cells": [
  {
   "cell_type": "markdown",
   "metadata": {},
   "source": [
    "# W9 - Python regular expressions\n",
    "**To solve following problems, use regular expressions**"
   ]
  },
  {
   "cell_type": "markdown",
   "metadata": {},
   "source": [
    "# 1. Write function that matches a string that has an 'a' followed by anything, ending in 'b'\n",
    "Example\n",
    "```python\n",
    ">>> print(text_match(\"aabbbbdb\"))\n",
    "True\n",
    ">>> print(text_match(\"aabAbbbc\"))\n",
    "False\n",
    "```"
   ]
  },
  {
   "cell_type": "code",
   "execution_count": 1,
   "metadata": {},
   "outputs": [],
   "source": [
    "import re\n",
    "def text_match0(string):\n",
    "    if re.search(r'^a\\w+b$',string):\n",
    "        return True\n",
    "    else:\n",
    "        return False"
   ]
  },
  {
   "cell_type": "code",
   "execution_count": 2,
   "metadata": {},
   "outputs": [
    {
     "name": "stdout",
     "output_type": "stream",
     "text": [
      "True\n"
     ]
    }
   ],
   "source": [
    "print(text_match0(\"aabbbbdb\"))"
   ]
  },
  {
   "cell_type": "markdown",
   "metadata": {},
   "source": [
    "# 2. Write function that matches string if it starts with word\n",
    "Example\n",
    "```python\n",
    ">>> print(text_match(\"Hello world!\"))\n",
    "True\n",
    ">>> print(text_match(\" Hello world!\"))\n",
    "False\n",
    "```"
   ]
  },
  {
   "cell_type": "code",
   "execution_count": 3,
   "metadata": {},
   "outputs": [],
   "source": [
    "import re\n",
    "def text_match1(string):\n",
    "    if re.search(r'^\\w+\\s',string):\n",
    "        return True\n",
    "    else:\n",
    "        return False"
   ]
  },
  {
   "cell_type": "code",
   "execution_count": 4,
   "metadata": {},
   "outputs": [
    {
     "name": "stdout",
     "output_type": "stream",
     "text": [
      "False\n"
     ]
    }
   ],
   "source": [
    "print(text_match1(\" Hello world!\"))"
   ]
  },
  {
   "cell_type": "markdown",
   "metadata": {},
   "source": [
    "# 3. Write function to convert a date of yyyy-mm-dd format to dd-mm-yyyy format\n",
    "Example\n",
    "```python\n",
    ">>> print(convert_date(\"2018-11-01\"))\n",
    "```\n",
    "```\n",
    "01-11-2018\n",
    "```"
   ]
  },
  {
   "cell_type": "code",
   "execution_count": 5,
   "metadata": {},
   "outputs": [],
   "source": [
    "import re\n",
    "def convert_date(string):\n",
    "    date = re.search(r'(\\d{4})-(\\d{2})-(\\d{2})',string)\n",
    "    return '{0}-{1}-{2}'.format(date.group(3),date.group(2),date.group(1))"
   ]
  },
  {
   "cell_type": "code",
   "execution_count": 6,
   "metadata": {},
   "outputs": [
    {
     "name": "stdout",
     "output_type": "stream",
     "text": [
      "01-11-2018\n"
     ]
    }
   ],
   "source": [
    "print(convert_date(\"2018-11-01\"))"
   ]
  },
  {
   "cell_type": "markdown",
   "metadata": {},
   "source": [
    "# 4. Write function to search for words containing 3 letters in the given string\n",
    "Resulting words are sorted in alphabetical order\n",
    "Example\n",
    "```python\n",
    ">>> print(search words('The quick brown fox jumps over the lazy dog.'))\n",
    "dog fox the\n",
    "```"
   ]
  },
  {
   "cell_type": "code",
   "execution_count": 7,
   "metadata": {},
   "outputs": [],
   "source": [
    "import re\n",
    "def search_words(string):\n",
    "    words = re.findall(r'\\b[a-zA-Z]{3}[\\s\\W\\b]',string)\n",
    "    for i,j in enumerate(words):\n",
    "        print(re.sub('[\\s\\W]', '', j), end=' ')"
   ]
  },
  {
   "cell_type": "code",
   "execution_count": 8,
   "metadata": {},
   "outputs": [
    {
     "name": "stdout",
     "output_type": "stream",
     "text": [
      "The fox the dog "
     ]
    }
   ],
   "source": [
    "search_words('The quick brown fox jumps over the lazy dog.')"
   ]
  },
  {
   "cell_type": "markdown",
   "metadata": {},
   "source": [
    "# 5. Write function to convert camel case string to snake case string\n",
    "Example\n",
    "```python\n",
    ">>> print(convert_style(\"myVariable\"))\n",
    "my_variable\n",
    "```"
   ]
  },
  {
   "cell_type": "code",
   "execution_count": 9,
   "metadata": {},
   "outputs": [],
   "source": [
    "import re\n",
    "def convert_style(string):\n",
    "    return re.sub('([a-z])([A-Z])', '\\g<1>_\\g<2>', string).lower()"
   ]
  },
  {
   "cell_type": "code",
   "execution_count": 10,
   "metadata": {},
   "outputs": [
    {
     "name": "stdout",
     "output_type": "stream",
     "text": [
      "my_variable\n"
     ]
    }
   ],
   "source": [
    "print(convert_style(\"myVariable\"))"
   ]
  },
  {
   "cell_type": "markdown",
   "metadata": {},
   "source": [
    "# 6. Write function to find all adverbs in the given string\n",
    "Example\n",
    "```python\n",
    ">>> print(find_adverbs('The early bird catches the worm.'))\n",
    "early\n",
    ">>> print(find_adverbs('Better late than never.'))\n",
    "No adverbs were found\n",
    "```"
   ]
  },
  {
   "cell_type": "code",
   "execution_count": 11,
   "metadata": {},
   "outputs": [],
   "source": [
    "import re\n",
    "def find_adverbs(string):\n",
    "    adverbs = re.findall('\\w+ly', string)\n",
    "    for i,j in enumerate(adverbs):\n",
    "        print(j)"
   ]
  },
  {
   "cell_type": "code",
   "execution_count": 12,
   "metadata": {},
   "outputs": [
    {
     "name": "stdout",
     "output_type": "stream",
     "text": [
      "early\n"
     ]
    }
   ],
   "source": [
    "find_adverbs('The early bird catches the worm.')"
   ]
  },
  {
   "cell_type": "markdown",
   "metadata": {},
   "source": [
    "# 7. Write function to remove multiple spaces in the given string"
   ]
  },
  {
   "cell_type": "code",
   "execution_count": 13,
   "metadata": {},
   "outputs": [],
   "source": [
    "import re\n",
    "def remove_multiple_spaces(string):\n",
    "    return re.sub('\\s+', ' ', string)"
   ]
  },
  {
   "cell_type": "code",
   "execution_count": 14,
   "metadata": {},
   "outputs": [
    {
     "name": "stdout",
     "output_type": "stream",
     "text": [
      "Better late than never.\n"
     ]
    }
   ],
   "source": [
    "print(remove_multiple_spaces('Better    late    than    never.'))"
   ]
  },
  {
   "cell_type": "markdown",
   "metadata": {},
   "source": [
    "# 8. Write function that matches word that does not starts and ends with s in the given string\n",
    "Example\n",
    "```python\n",
    ">>> print(word_match_not_s(\"A chain is only as strong as its weakest link.\"))\n",
    "a\n",
    "chain\n",
    "only\n",
    "weakest\n",
    "link\n",
    "```"
   ]
  },
  {
   "cell_type": "code",
   "execution_count": 15,
   "metadata": {},
   "outputs": [],
   "source": [
    "import re\n",
    "def word_match_not_s(string):\n",
    "    for char in string:\n",
    "        if char in \"?.!/;:\":\n",
    "            string = string.replace(char,'')\n",
    "    string1 = string.split()\n",
    "    for i,j in enumerate(string1):\n",
    "        if not(re.search('^[sS]\\w+$', j) or (re.search('^\\w+[sS]$', j))):\n",
    "            print(j)"
   ]
  },
  {
   "cell_type": "code",
   "execution_count": 16,
   "metadata": {},
   "outputs": [
    {
     "name": "stdout",
     "output_type": "stream",
     "text": [
      "A\n",
      "chain\n",
      "only\n",
      "weakest\n",
      "link\n"
     ]
    }
   ],
   "source": [
    "word_match_not_s(\"A chain is only as strong as its weakest link.\")"
   ]
  },
  {
   "cell_type": "markdown",
   "metadata": {},
   "source": [
    "# 9. Write function to remove leading zeroes from month and day\n",
    "Example\n",
    "```python\n",
    ">>> print(remove_zeroes(\"1970-01-01\"))\n",
    "1970-1-1\n",
    "```"
   ]
  },
  {
   "cell_type": "code",
   "execution_count": 17,
   "metadata": {},
   "outputs": [],
   "source": [
    "import re\n",
    "def remove_zeroes(string):\n",
    "    string = '-'+string+'-'\n",
    "    print(re.sub('(-)0(\\d-)', '\\g<1>\\g<2>', string)[1:-1])"
   ]
  },
  {
   "cell_type": "code",
   "execution_count": 18,
   "metadata": {},
   "outputs": [
    {
     "name": "stdout",
     "output_type": "stream",
     "text": [
      "1007-10-1\n",
      "1-10-1901\n",
      "10-1-1901\n"
     ]
    }
   ],
   "source": [
    "remove_zeroes(\"1007-10-01\")\n",
    "remove_zeroes(\"01-10-1901\")\n",
    "remove_zeroes(\"10-01-1901\")\n"
   ]
  },
  {
   "cell_type": "markdown",
   "metadata": {},
   "source": [
    "# 10. Write function that will find sequence of 4 and more same symbols in given string\n",
    "Example\n",
    "```python\n",
    ">>> print(find_repetitions('atagttcgacctgggtatcccttttgaaaaagtatctactagagggtatcttcaa'))\n",
    "Symbol a matched at least 4 times\n",
    "Symbol t matched at least 4 times\n",
    "```"
   ]
  },
  {
   "cell_type": "code",
   "execution_count": 19,
   "metadata": {},
   "outputs": [],
   "source": [
    "import re\n",
    "def find_repetitions(string):\n",
    "    matches = re.findall('a{4,}|c{4,}|g{4,}|t{4,}',string)\n",
    "    for i,j in enumerate(matches):\n",
    "        print('Symbol {0} matched at least 4 times'.format(j[1]))"
   ]
  },
  {
   "cell_type": "code",
   "execution_count": 20,
   "metadata": {},
   "outputs": [
    {
     "name": "stdout",
     "output_type": "stream",
     "text": [
      "Symbol t matched at least 4 times\n",
      "Symbol a matched at least 4 times\n"
     ]
    }
   ],
   "source": [
    "find_repetitions('atagttcgacctgggtatcccttttgaaaaagtatctactagagggtatcttcaa')"
   ]
  },
  {
   "cell_type": "markdown",
   "metadata": {},
   "source": [
    "# BONUS: Write function to extract email addresses from the text using regular expressions\n",
    "```python\n",
    "text = '''Please submit your article online at https://biocoreopen.org/ijcf/submit_manuscript.php or you can email your attachments to ijcf@biocoreopen.info (or) editor.forensicjournal@gmail.com'''\n",
    ">>> extract_emails(text)\n",
    "ijcf@biocoreopen.info\n",
    "editor.forensicjournal@gmail.com\n",
    "```"
   ]
  },
  {
   "cell_type": "code",
   "execution_count": 21,
   "metadata": {},
   "outputs": [],
   "source": [
    "import re\n",
    "def extract_emails(string):\n",
    "    emails = re.findall('\\w+\\.?\\w+@\\w+\\.\\w+', string)\n",
    "    for i,j in enumerate(emails):\n",
    "        print(j)"
   ]
  },
  {
   "cell_type": "code",
   "execution_count": 22,
   "metadata": {},
   "outputs": [
    {
     "name": "stdout",
     "output_type": "stream",
     "text": [
      "ijcf@biocoreopen.info\n",
      "editor.forensicjournal@gmail.com\n"
     ]
    }
   ],
   "source": [
    "text = '''Please submit your article online at https://biocoreopen.org/ijcf/submit_manuscript.php or you can email your attachments to ijcf@biocoreopen.info (or) editor.forensicjournal@gmail.com'''\n",
    "extract_emails(text)"
   ]
  },
  {
   "cell_type": "code",
   "execution_count": null,
   "metadata": {},
   "outputs": [],
   "source": []
  }
 ],
 "metadata": {
  "kernelspec": {
   "display_name": "Python 3",
   "language": "python",
   "name": "python3"
  },
  "language_info": {
   "codemirror_mode": {
    "name": "ipython",
    "version": 3
   },
   "file_extension": ".py",
   "mimetype": "text/x-python",
   "name": "python",
   "nbconvert_exporter": "python",
   "pygments_lexer": "ipython3",
   "version": "3.6.6+"
  }
 },
 "nbformat": 4,
 "nbformat_minor": 2
}
