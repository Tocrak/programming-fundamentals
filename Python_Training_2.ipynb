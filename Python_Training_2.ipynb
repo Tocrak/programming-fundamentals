{
 "cells": [
  {
   "cell_type": "markdown",
   "metadata": {},
   "source": [
    "Python Training 2"
   ]
  },
  {
   "cell_type": "markdown",
   "metadata": {},
   "source": [
    "Lecture 1"
   ]
  },
  {
   "cell_type": "code",
   "execution_count": 1,
   "metadata": {},
   "outputs": [
    {
     "name": "stdout",
     "output_type": "stream",
     "text": [
      "I have no idea what value does x have\n"
     ]
    }
   ],
   "source": [
    "x = 1\n",
    ">>> if x > 2:\n",
    "    print('x is more than 2')\n",
    "print('I have no idea what value does x have')\n"
   ]
  },
  {
   "cell_type": "code",
   "execution_count": 3,
   "metadata": {},
   "outputs": [
    {
     "name": "stdout",
     "output_type": "stream",
     "text": [
      "seriously, I don't know\n"
     ]
    }
   ],
   "source": [
    "if x > 2:\n",
    "    print('x is more than 2')\n",
    "    print('I have no idea what value does x have')\n",
    "print(\"seriously, I don't know\")"
   ]
  },
  {
   "cell_type": "code",
   "execution_count": 6,
   "metadata": {},
   "outputs": [
    {
     "name": "stdout",
     "output_type": "stream",
     "text": [
      "Type number: 12\n",
      "12 is even\n"
     ]
    }
   ],
   "source": [
    "x = int(input('Type number: ')) # input function reads a line \n",
    "#from input (keyboard) and converts the line into a string\n",
    "\n",
    "# int function converts number to integer\n",
    "\n",
    "if x % 2 == 0:\n",
    "    print(x, 'is even')\n",
    "else:\n",
    "    print(x, 'is odd')"
   ]
  },
  {
   "cell_type": "code",
   "execution_count": 15,
   "metadata": {},
   "outputs": [
    {
     "name": "stdout",
     "output_type": "stream",
     "text": [
      "Write your name: Petr\n",
      "You're in the list bro\n"
     ]
    }
   ],
   "source": [
    "names_list = ['Jiri', 'Jan', 'Marie', 'Petr',\n",
    "              'Jana', 'Josef', 'Pavel', 'Martin',\n",
    "              'Jaroslav', 'Tomas', 'Eva', 'Miroslav',\n",
    "              'Hana', 'Anna', 'Zdenek', 'Frantisek',\n",
    "              'Vaclav', 'Michal', 'Lenka', 'Katerina']\n",
    "user_name = input('Write your name: ')\n",
    "if user_name in names_list:\n",
    "    print(\"You're in the list bro\")\n",
    "else:\n",
    "    print(\"I'm sorry bro\")"
   ]
  },
  {
   "cell_type": "code",
   "execution_count": 30,
   "metadata": {},
   "outputs": [
    {
     "name": "stdout",
     "output_type": "stream",
     "text": [
      "['0 is my favorite number!', '1 is my favorite number!', '4 is my favorite number!', '9 is my favorite number!', '16 is my favorite number!']\n"
     ]
    }
   ],
   "source": [
    "list1 = list(range(5))\n",
    "nr_multiply = [(str(x*x) + ' is my favorite number!') for x in list1]\n",
    "print(nr_multiply)\n"
   ]
  },
  {
   "cell_type": "code",
   "execution_count": 48,
   "metadata": {},
   "outputs": [
    {
     "name": "stdout",
     "output_type": "stream",
     "text": [
      "[0, 7, 8]\n"
     ]
    }
   ],
   "source": [
    "seq = 'ACTGCTCAAG'\n",
    "pos_A = [x for x in range(len(seq)) if 'A' == seq[x]]\n",
    "print(pos_A)"
   ]
  },
  {
   "cell_type": "code",
   "execution_count": 8,
   "metadata": {},
   "outputs": [
    {
     "name": "stdout",
     "output_type": "stream",
     "text": [
      "[0, 7, 8]\n"
     ]
    }
   ],
   "source": [
    "seq = 'ACTGCTCAAG'\n",
    "[pos for pos,x in enumerate(seq) if 'A' == x]\n",
    "print(pos_A)"
   ]
  },
  {
   "cell_type": "markdown",
   "metadata": {},
   "source": [
    "Lecture 2"
   ]
  },
  {
   "cell_type": "code",
   "execution_count": 19,
   "metadata": {},
   "outputs": [
    {
     "data": {
      "text/plain": [
       "{'apple': 5, 'mango': 5, 'banana': 6, 'cherry': 6}"
      ]
     },
     "execution_count": 19,
     "metadata": {},
     "output_type": "execute_result"
    }
   ],
   "source": [
    "fruits = ['apple', 'mango', 'banana','cherry']\n",
    "{f:len(f) for f in fruits}"
   ]
  },
  {
   "cell_type": "code",
   "execution_count": 34,
   "metadata": {},
   "outputs": [
    {
     "data": {
      "text/plain": [
       "{'John': 30, 'Emily': 105, 'Matthew': 150}"
      ]
     },
     "execution_count": 34,
     "metadata": {},
     "output_type": "execute_result"
    }
   ],
   "source": [
    "scores = {'John' : 10, 'Emily' : 35, 'Matthew' : 50}\n",
    "{name:x*3 for name,x in scores.items()}"
   ]
  },
  {
   "cell_type": "code",
   "execution_count": 36,
   "metadata": {
    "collapsed": true
   },
   "outputs": [
    {
     "name": "stdout",
     "output_type": "stream",
     "text": [
      "14\n",
      "14\n",
      "13\n",
      "12\n",
      "11\n",
      "10\n",
      "9\n",
      "8\n",
      "7\n",
      "6\n",
      "5\n",
      "4\n",
      "3\n",
      "2\n",
      "1\n",
      "COOL\n"
     ]
    }
   ],
   "source": [
    "n = int(input())\n",
    "while n > 0:\n",
    "    print(n)\n",
    "    n = n-1\n",
    "print('COOL')"
   ]
  },
  {
   "cell_type": "code",
   "execution_count": 50,
   "metadata": {},
   "outputs": [
    {
     "name": "stdout",
     "output_type": "stream",
     "text": [
      "Write your name: Virgiliu\n",
      "victor\n",
      "india\n",
      "romeo\n",
      "golf\n",
      "india\n",
      "lima\n",
      "india\n",
      "uniform\n",
      "\n",
      "victor\n",
      "india\n",
      "romeo\n",
      "golf\n",
      "india\n",
      "lima\n",
      "india\n",
      "uniform\n"
     ]
    }
   ],
   "source": [
    "d = {'a':'alfa', 'b':'bravo', 'c':'charlie', 'd':'delta',\n",
    "     'e':'echo', 'f':'foxtrot', 'g':'golf', 'h':'hotel',\n",
    "     'i':'india', 'j':'juliett', 'k':'kilo', 'l':'lima',\n",
    "     'm':'mike', 'n':'november', 'o':'oscar', 'p':'papa',\n",
    "     'q':'quebec', 'r':'romeo', 's':'sierra', 't':'tango',\n",
    "     'u':'uniform', 'v':'victor', 'w':'whiskey', 'x':'x-ray',\n",
    "     'y':'yankee', 'z':'zulu'}\n",
    "name = input('Write your name: ').lower()\n",
    "for name_letter in name:\n",
    "    for letter,spelling in d.items():\n",
    "        if name_letter == letter:\n",
    "            print(spelling)\n",
    "print()\n",
    "for letter in name:\n",
    "    print(d[letter])"
   ]
  },
  {
   "cell_type": "code",
   "execution_count": 102,
   "metadata": {},
   "outputs": [
    {
     "name": "stdout",
     "output_type": "stream",
     "text": [
      "[[1, 4, 7], [2, 5, 8], [3, 6, 9]]\n",
      "[[1, 4, 7], [2, 5, 8], [3, 6, 9]]\n",
      "[[1, 4, 7], [2, 5, 8], [3, 6, 9]]\n"
     ]
    }
   ],
   "source": [
    "a = [[1,2,3],\n",
    "     [4,5,6],\n",
    "     [7,8,9]]\n",
    "b = [list(i) for i in zip(*a)]\n",
    "print(b)\n",
    "\n",
    "b = []\n",
    "for i in zip(*a):\n",
    "    b.append((list(i)))\n",
    "print(b)\n",
    "\n",
    "b = [[0 for i in a] for i in a[0]]\n",
    "for i in range(len(a)):\n",
    "    for j in range(len(a[i])):\n",
    "        b[i][j] = a[j][i]\n",
    "print(b)"
   ]
  },
  {
   "cell_type": "code",
   "execution_count": 113,
   "metadata": {},
   "outputs": [
    {
     "name": "stdout",
     "output_type": "stream",
     "text": [
      "Write an item: \n",
      "books\n",
      "It is not in the list\n",
      "New list:\n",
      "['car', 'house', 'games', 'food', 'drinks', 'books']\n"
     ]
    }
   ],
   "source": [
    "shopping = ['car', 'house', 'games', 'food', 'drinks']\n",
    "new_item = input('Write an item:\\n')\n",
    "for item in shopping:\n",
    "    if new_item == item:\n",
    "        print(new_item)\n",
    "        break\n",
    "    else: \n",
    "        shopping.append(new_item)\n",
    "        print('It is not in the list\\nNew list:')\n",
    "        print(shopping)\n",
    "        break"
   ]
  },
  {
   "cell_type": "code",
   "execution_count": 139,
   "metadata": {},
   "outputs": [
    {
     "name": "stdout",
     "output_type": "stream",
     "text": [
      "2002, 2009, 2016, 2023, 2037, 2044, 2051, 2058, 2072, 2079, 2086, 2093, 2107, 2114, 2121, 2128, 2142, 2149, 2156, 2163, 2177, 2184, 2191, 2198, 2212, 2219, 2226, 2233, 2247, 2254, 2261, 2268, 2282, 2289, 2296, 2303, 2317, 2324, 2331, 2338, 2352, 2359, 2366, 2373, 2387, 2394, 2401, 2408, 2422, 2429, 2436, 2443, 2457, 2464, 2471, 2478, 2492, 2499, 2506, 2513, 2527, 2534, 2541, 2548, 2562, 2569, 2576, 2583, 2597, 2604, 2611, 2618, 2632, 2639, 2646, 2653, 2667, 2674, 2681, 2688, 2702, 2709, 2716, 2723, 2737, 2744, 2751, 2758, 2772, 2779, 2786, 2793, 2807, 2814, 2821, 2828, 2842, 2849, 2856, 2863, 2877, 2884, 2891, 2898, 2912, 2919, 2926, 2933, 2947, 2954, 2961, 2968, 2982, 2989, 2996, 3003, 3017, 3024, 3031, 3038, 3052, 3059, 3066, 3073, 3087, 3094, 3101, 3108, 3122, 3129, 3136, 3143, 3157, 3164, 3171, 3178, 3192, 3199, "
     ]
    }
   ],
   "source": [
    "for i in range(1999, 3201):\n",
    "    if i % 7 == 0:\n",
    "        if not i % 5 == 0:\n",
    "            print(i, end=', ', flush=True)"
   ]
  },
  {
   "cell_type": "code",
   "execution_count": null,
   "metadata": {},
   "outputs": [],
   "source": []
  }
 ],
 "metadata": {
  "kernelspec": {
   "display_name": "Python 3",
   "language": "python",
   "name": "python3"
  },
  "language_info": {
   "codemirror_mode": {
    "name": "ipython",
    "version": 3
   },
   "file_extension": ".py",
   "mimetype": "text/x-python",
   "name": "python",
   "nbconvert_exporter": "python",
   "pygments_lexer": "ipython3",
   "version": "3.6.6+"
  }
 },
 "nbformat": 4,
 "nbformat_minor": 2
}
