{
 "cells": [
  {
   "cell_type": "markdown",
   "metadata": {},
   "source": [
    "Lecture 1"
   ]
  },
  {
   "cell_type": "code",
   "execution_count": 3,
   "metadata": {},
   "outputs": [
    {
     "name": "stdout",
     "output_type": "stream",
     "text": [
      "abbabbabba\n"
     ]
    }
   ],
   "source": [
    "message=''\n",
    "for number in range(10):\n",
    "    # use a if the number is a multiple of 3, otherwise use b\n",
    "    if (number % 3) == 0:\n",
    "        message = message + 'a'\n",
    "    else:\n",
    "        message = message + \"b\"\n",
    "print(message)"
   ]
  },
  {
   "cell_type": "code",
   "execution_count": 14,
   "metadata": {},
   "outputs": [
    {
     "name": "stdout",
     "output_type": "stream",
     "text": [
      "Type a name: Virgiliu\n",
      "Virgiliu\n"
     ]
    }
   ],
   "source": [
    "name = input('Type a name: ')\n",
    "if name[:1] != name[:1].upper():\n",
    "    raise Exception('START WITH UPPERCASE LETTER!')\n",
    "for letter in name:\n",
    "    if letter in '0123456789':\n",
    "        raise Exception('NO NUMBERS!')\n",
    "    elif letter == ' ':\n",
    "        raise Exception('NO SPACES!')\n",
    "print(name)"
   ]
  },
  {
   "cell_type": "code",
   "execution_count": 25,
   "metadata": {},
   "outputs": [],
   "source": [
    "def division():\n",
    "    number1 = input('Write first number: ')\n",
    "    while True:\n",
    "        try:\n",
    "            number1 = int(number1)\n",
    "            break\n",
    "        except:\n",
    "            number1 = input('Write an integer!: ')\n",
    "    number2 = input('Write the second number: ')\n",
    "    while True:\n",
    "        try:\n",
    "            number2 = int(number2)\n",
    "            if number2 == 0:\n",
    "                number2 = input('Write a number different than 0!: ')\n",
    "                continue\n",
    "            break\n",
    "        except:\n",
    "            number2 = input('Write an integer!: ')\n",
    "    return number1/number2"
   ]
  },
  {
   "cell_type": "code",
   "execution_count": 28,
   "metadata": {},
   "outputs": [
    {
     "name": "stdout",
     "output_type": "stream",
     "text": [
      "Write first number: k\n",
      "Write an integer!: t\n",
      "Write an integer!: 6\n",
      "Write the second number: h\n",
      "Write an integer!: k\n",
      "Write an integer!: 0\n",
      "Write a number different than 0!: g\n",
      "Write an integer!: 5\n"
     ]
    },
    {
     "data": {
      "text/plain": [
       "1.2"
      ]
     },
     "execution_count": 28,
     "metadata": {},
     "output_type": "execute_result"
    }
   ],
   "source": [
    "division()"
   ]
  },
  {
   "cell_type": "code",
   "execution_count": 44,
   "metadata": {},
   "outputs": [
    {
     "data": {
      "text/plain": [
       "5"
      ]
     },
     "execution_count": 44,
     "metadata": {},
     "output_type": "execute_result"
    }
   ],
   "source": [
    "def gog(num1,num2):\n",
    "    sum1 = num1 +num2\n",
    "    return sum1\n",
    "gog(1,4)"
   ]
  },
  {
   "cell_type": "markdown",
   "metadata": {},
   "source": [
    "Lecture 2"
   ]
  },
  {
   "cell_type": "code",
   "execution_count": null,
   "metadata": {},
   "outputs": [],
   "source": []
  }
 ],
 "metadata": {
  "kernelspec": {
   "display_name": "Python 3",
   "language": "python",
   "name": "python3"
  },
  "language_info": {
   "codemirror_mode": {
    "name": "ipython",
    "version": 3
   },
   "file_extension": ".py",
   "mimetype": "text/x-python",
   "name": "python",
   "nbconvert_exporter": "python",
   "pygments_lexer": "ipython3",
   "version": "3.6.6+"
  }
 },
 "nbformat": 4,
 "nbformat_minor": 2
}
