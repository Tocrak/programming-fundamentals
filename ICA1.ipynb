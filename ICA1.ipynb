{
 "cells": [
  {
   "cell_type": "code",
   "execution_count": 1,
   "metadata": {},
   "outputs": [],
   "source": [
    "def print_box(w,h):\n",
    "    line =  \"*\"*(w)\n",
    "    print(line)\n",
    "    s  = \"*\" + \" \"*(w-2) + \"*\"\n",
    "    for i in range(h-2):\n",
    "        print(s)\n",
    "    print(line)"
   ]
  },
  {
   "cell_type": "code",
   "execution_count": 2,
   "metadata": {},
   "outputs": [
    {
     "name": "stdout",
     "output_type": "stream",
     "text": [
      "***\n",
      "* *\n",
      "* *\n",
      "***\n"
     ]
    }
   ],
   "source": [
    "print_box(3,4)"
   ]
  },
  {
   "cell_type": "code",
   "execution_count": 3,
   "metadata": {},
   "outputs": [],
   "source": [
    "def get_longest_element(in_list):\n",
    "    longest_elem = in_list[0]\n",
    "    for word in in_list:\n",
    "        if len(word) > len(longest_elem):\n",
    "            longest_elem = word\n",
    "    return longest_elem"
   ]
  },
  {
   "cell_type": "code",
   "execution_count": 4,
   "metadata": {},
   "outputs": [
    {
     "data": {
      "text/plain": [
       "'banana'"
      ]
     },
     "execution_count": 4,
     "metadata": {},
     "output_type": "execute_result"
    }
   ],
   "source": [
    "longest_item = get_longest_element(['banana','apple', 'mango', 'kiwi'])\n",
    "longest_item"
   ]
  },
  {
   "cell_type": "code",
   "execution_count": 5,
   "metadata": {},
   "outputs": [],
   "source": [
    "def consonant_to_uppercase(string):\n",
    "    string = [letter.lower() if (letter in 'AEIOUaeiou') else letter.upper() for letter in string]\n",
    "    return ''.join(string)"
   ]
  },
  {
   "cell_type": "code",
   "execution_count": 6,
   "metadata": {},
   "outputs": [
    {
     "data": {
      "text/plain": [
       "'aPPLe'"
      ]
     },
     "execution_count": 6,
     "metadata": {},
     "output_type": "execute_result"
    }
   ],
   "source": [
    "edited_string = consonant_to_uppercase('Apple')\n",
    "edited_string"
   ]
  },
  {
   "cell_type": "code",
   "execution_count": 7,
   "metadata": {},
   "outputs": [],
   "source": [
    "def compute_mean(int1, int2, int3):\n",
    "     print('Mean value is', (int1 + int2 + int3)/3)"
   ]
  },
  {
   "cell_type": "code",
   "execution_count": 8,
   "metadata": {},
   "outputs": [
    {
     "name": "stdout",
     "output_type": "stream",
     "text": [
      "Mean value is 3.0\n"
     ]
    }
   ],
   "source": [
    " compute_mean(5, 0, 4)"
   ]
  },
  {
   "cell_type": "code",
   "execution_count": 9,
   "metadata": {},
   "outputs": [],
   "source": [
    "def make_palindrome(string):\n",
    "    string = string[:-1] + string[::-1]\n",
    "    return string"
   ]
  },
  {
   "cell_type": "code",
   "execution_count": 10,
   "metadata": {},
   "outputs": [
    {
     "data": {
      "text/plain": [
       "'pythonohtyp'"
      ]
     },
     "execution_count": 10,
     "metadata": {},
     "output_type": "execute_result"
    }
   ],
   "source": [
    "palindrome = make_palindrome('python')\n",
    "palindrome"
   ]
  },
  {
   "cell_type": "code",
   "execution_count": 11,
   "metadata": {},
   "outputs": [],
   "source": [
    "def multiplication_table(nr):\n",
    "    for i in range(2, nr+1):\n",
    "        print('''------{0}-------\n",
    "{0} X 2 = {1}\n",
    "{0} X 3 = {2}\n",
    "{0} X 4 = {3}\n",
    "{0} X 5 = {4}\n",
    "{0} X 6 = {5}\n",
    "{0} X 7 = {6}\n",
    "{0} X 8 = {7}\n",
    "{0} X 9 = {8}\n",
    "{0} X 10 = {9}'''.format(i, i*2, i*3, i*4, i*5, i*6, i*7, i*8, i*9, i*10))"
   ]
  },
  {
   "cell_type": "code",
   "execution_count": 12,
   "metadata": {},
   "outputs": [
    {
     "name": "stdout",
     "output_type": "stream",
     "text": [
      "------2-------\n",
      "2 X 2 = 4\n",
      "2 X 3 = 6\n",
      "2 X 4 = 8\n",
      "2 X 5 = 10\n",
      "2 X 6 = 12\n",
      "2 X 7 = 14\n",
      "2 X 8 = 16\n",
      "2 X 9 = 18\n",
      "2 X 10 = 20\n",
      "------3-------\n",
      "3 X 2 = 6\n",
      "3 X 3 = 9\n",
      "3 X 4 = 12\n",
      "3 X 5 = 15\n",
      "3 X 6 = 18\n",
      "3 X 7 = 21\n",
      "3 X 8 = 24\n",
      "3 X 9 = 27\n",
      "3 X 10 = 30\n"
     ]
    }
   ],
   "source": [
    "multiplication_table(3)"
   ]
  },
  {
   "cell_type": "code",
   "execution_count": 13,
   "metadata": {},
   "outputs": [],
   "source": [
    "def count_consonants(string, file):\n",
    "    number = 0\n",
    "    for letter in string:\n",
    "            if letter.upper() in 'BCDFGHJKLMNPQRSTVWXYZ':\n",
    "                number += 1\n",
    "    with open(file, 'w') as f_out:\n",
    "        print('''Input string: {0}\n",
    "Number of consonants: {1}'''.format(string, number), file= f_out, end='')"
   ]
  },
  {
   "cell_type": "code",
   "execution_count": 14,
   "metadata": {},
   "outputs": [],
   "source": [
    "quote = 'The best preparation for tomorrow is doing your best today.'\n",
    "count_consonants(quote, 'result.txt')"
   ]
  },
  {
   "cell_type": "code",
   "execution_count": 15,
   "metadata": {},
   "outputs": [],
   "source": [
    "def transform_memory_units(string1, unit2):\n",
    "    val, unit1 = string1.split()\n",
    "    val = float(val)\n",
    "    dict = {'MB': 1000000, 'kB': 1000, 'GB': 1000000000, 'bytes': 1}\n",
    "    return str(val * (dict.get(unit1)/dict.get(unit2))) + ' ' + unit2"
   ]
  },
  {
   "cell_type": "code",
   "execution_count": 16,
   "metadata": {},
   "outputs": [
    {
     "data": {
      "text/plain": [
       "'1300.0 bytes'"
      ]
     },
     "execution_count": 16,
     "metadata": {},
     "output_type": "execute_result"
    }
   ],
   "source": [
    "result = transform_memory_units('1.3 kB', 'bytes')\n",
    "result"
   ]
  },
  {
   "cell_type": "code",
   "execution_count": 17,
   "metadata": {},
   "outputs": [],
   "source": [
    "def generate_sentences(subjects, verbs, objects):\n",
    "    sentences = []\n",
    "    for i in subjects:\n",
    "        for j in verbs:\n",
    "            for k in objects:\n",
    "                sentence = i + ' ' + j + ' ' + k\n",
    "                sentences.append(sentence)\n",
    "    return sentences"
   ]
  },
  {
   "cell_type": "code",
   "execution_count": 18,
   "metadata": {},
   "outputs": [
    {
     "data": {
      "text/plain": [
       "['I play hockey',\n",
       " 'I play football',\n",
       " 'I love hockey',\n",
       " 'I love football',\n",
       " 'You play hockey',\n",
       " 'You play football',\n",
       " 'You love hockey',\n",
       " 'You love football',\n",
       " 'We play hockey',\n",
       " 'We play football',\n",
       " 'We love hockey',\n",
       " 'We love football']"
      ]
     },
     "execution_count": 18,
     "metadata": {},
     "output_type": "execute_result"
    }
   ],
   "source": [
    "sentences = generate_sentences(['I', 'You', 'We'], ['play', 'love'], ['hockey', 'football'])\n",
    "sentences"
   ]
  },
  {
   "cell_type": "code",
   "execution_count": 19,
   "metadata": {},
   "outputs": [],
   "source": [
    "def count_occurrence(string):\n",
    "    dict_result = {}\n",
    "    for char in string:\n",
    "        if char in \"?.!/;:'\":\n",
    "            string = string.replace(char,'')\n",
    "    string = string.lower()\n",
    "    text = string.split()\n",
    "    for current_word in text:\n",
    "        occurence = 0\n",
    "        for word in text:\n",
    "            if current_word == word:\n",
    "                occurence +=1\n",
    "        dict_result.update({current_word: occurence})\n",
    "    for w in sorted(dict_result, key=dict_result.get, reverse=True)[:5]:\n",
    "        print(dict_result[w], w)"
   ]
  },
  {
   "cell_type": "code",
   "execution_count": 20,
   "metadata": {},
   "outputs": [
    {
     "name": "stdout",
     "output_type": "stream",
     "text": [
      "6 the\n",
      "3 seasons\n",
      "3 to\n",
      "2 and\n",
      "2 meteorological\n"
     ]
    }
   ],
   "source": [
    "paragraph = \"\"\"Astronomical seasons refer to the position of Earth's orbit in relation to\n",
    "the sun taking into account equinoxes and solstices. Meteorological seasons are instead\n",
    "based on the annual temperature cycle and measure the meteorological state as well as \n",
    "coinciding with the calendar to determine a clear transition between the seasons.\"\"\"\n",
    "count_occurrence(paragraph)"
   ]
  },
  {
   "cell_type": "code",
   "execution_count": null,
   "metadata": {},
   "outputs": [],
   "source": []
  }
 ],
 "metadata": {
  "kernelspec": {
   "display_name": "Python 3",
   "language": "python",
   "name": "python3"
  },
  "language_info": {
   "codemirror_mode": {
    "name": "ipython",
    "version": 3
   },
   "file_extension": ".py",
   "mimetype": "text/x-python",
   "name": "python",
   "nbconvert_exporter": "python",
   "pygments_lexer": "ipython3",
   "version": "3.6.6+"
  }
 },
 "nbformat": 4,
 "nbformat_minor": 2
}
