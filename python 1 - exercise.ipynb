{
 "cells": [
  {
   "cell_type": "markdown",
   "metadata": {},
   "source": [
    "# W4 - Python data types assignment"
   ]
  },
  {
   "cell_type": "markdown",
   "metadata": {},
   "source": [
    "# 1. Print word `python` in reverse order"
   ]
  },
  {
   "cell_type": "code",
   "execution_count": 90,
   "metadata": {},
   "outputs": [
    {
     "data": {
      "text/plain": [
       "'nohtyp'"
      ]
     },
     "execution_count": 90,
     "metadata": {},
     "output_type": "execute_result"
    }
   ],
   "source": [
    "word = 'python'\n",
    "word[-1::-1]"
   ]
  },
  {
   "cell_type": "markdown",
   "metadata": {},
   "source": [
    "# 2. Define variables `apples` and `oranges` and using `format` methos print following string:\n",
    ">I have **7** apples and **5** oranges, therefore I have **12** fruits.`"
   ]
  },
  {
   "cell_type": "code",
   "execution_count": 91,
   "metadata": {},
   "outputs": [
    {
     "name": "stdout",
     "output_type": "stream",
     "text": [
      "I have 7 apples and 5 ornges, therefore I have 12 fruits.\n"
     ]
    }
   ],
   "source": [
    "apples = 7\n",
    "oranges = 5\n",
    "print('I have {0} apples and {1} ornges, therefore I have {2} fruits.'\n",
    "     .format(apples,oranges,(apples + oranges)))"
   ]
  },
  {
   "cell_type": "markdown",
   "metadata": {},
   "source": [
    "# 3. Convert list of characters (`['a', 'b', 'c', 'd']`) to string (`'abc'`)"
   ]
  },
  {
   "cell_type": "code",
   "execution_count": 92,
   "metadata": {},
   "outputs": [
    {
     "name": "stdout",
     "output_type": "stream",
     "text": [
      "abc\n"
     ]
    }
   ],
   "source": [
    "letters = ['a','b','c','d']\n",
    "del letters[3]\n",
    "word = ''.join(letters)\n",
    "print(word)"
   ]
  },
  {
   "cell_type": "markdown",
   "metadata": {},
   "source": [
    "# 4. Get difference betweet two lists (e.g. `[1, 2, 3, 4, 8, 12]` and `[1, 4, 8, 2]`)"
   ]
  },
  {
   "cell_type": "code",
   "execution_count": 93,
   "metadata": {},
   "outputs": [
    {
     "data": {
      "text/plain": [
       "{3, 12}"
      ]
     },
     "execution_count": 93,
     "metadata": {},
     "output_type": "execute_result"
    }
   ],
   "source": [
    "numbers1 = [1,2,3,4,8,12]\n",
    "numbers2 = [1,4,8,2]\n",
    "set(numbers1).difference(set(numbers2))"
   ]
  },
  {
   "cell_type": "markdown",
   "metadata": {},
   "source": [
    "# 5. Add an item to a tuple\n",
    "```python\n",
    "tuple_numbers = (4, 6, 2, 8, 3, 1) \n",
    "```"
   ]
  },
  {
   "cell_type": "code",
   "execution_count": 94,
   "metadata": {},
   "outputs": [
    {
     "name": "stdout",
     "output_type": "stream",
     "text": [
      "(4, 6, 2, 8, 3, 1, 7)\n"
     ]
    }
   ],
   "source": [
    "tuple_numbers = (4, 6, 2, 8, 3, 1)\n",
    "tuple_numbers = tuple_numbers + (7,)\n",
    "print(tuple_numbers)"
   ]
  },
  {
   "cell_type": "markdown",
   "metadata": {},
   "source": [
    "# 6. Convert a tuple to a string\n",
    "```python\n",
    "input_tuple = ('p', 'y', 't', 'h', 'o', 'n')\n",
    "output_string = 'python'\n",
    "```"
   ]
  },
  {
   "cell_type": "code",
   "execution_count": 95,
   "metadata": {},
   "outputs": [
    {
     "name": "stdout",
     "output_type": "stream",
     "text": [
      "python\n"
     ]
    }
   ],
   "source": [
    "input_tuple = ('p', 'y', 't', 'h', 'o', 'n')\n",
    "output_string = ''.join(list(input_tuple))\n",
    "print(output_string)"
   ]
  },
  {
   "cell_type": "markdown",
   "metadata": {},
   "source": [
    "# 7. Combine two dictionaries into one\n",
    "\n",
    "```python\n",
    "names1 = {'Jack': 25, 'John': 26, 'Emily': 23}\n",
    "names2 = {'Carol': 28, 'Walter': 22}\n",
    "```"
   ]
  },
  {
   "cell_type": "code",
   "execution_count": 96,
   "metadata": {},
   "outputs": [
    {
     "name": "stdout",
     "output_type": "stream",
     "text": [
      "{'Jack': 25, 'John': 26, 'Emily': 23, 'Carol': 28, 'Walter': 22}\n"
     ]
    }
   ],
   "source": [
    "names1 = {'Jack': 25, 'John': 26, 'Emily': 23}\n",
    "names2 = {'Carol': 28, 'Walter': 22}\n",
    "names1.update(names2)\n",
    "print(names1)"
   ]
  },
  {
   "cell_type": "markdown",
   "metadata": {},
   "source": [
    "# 8. Sum all the items in a dictionary\n",
    "```python\n",
    "ice_cream_price = {'Chocolate': 200, 'Strawberry': 188, 'Vanilla': 175, 'Caramel': 180}\n",
    "```"
   ]
  },
  {
   "cell_type": "code",
   "execution_count": 97,
   "metadata": {},
   "outputs": [
    {
     "name": "stdout",
     "output_type": "stream",
     "text": [
      "743\n"
     ]
    }
   ],
   "source": [
    "ice_cream_price = {'Chocolate': 200, 'Strawberry': 188,\n",
    "                   'Vanilla': 175, 'Caramel': 180}\n",
    "print(sum(ice_cream_price.values()))"
   ]
  },
  {
   "cell_type": "markdown",
   "metadata": {},
   "source": [
    "# 9. Remove item(s) from set. Can you gess which item will be removed?\n",
    "```python\n",
    "set_numbers = {1, 2, 3, 4, 5}\n",
    "set_letters = {'p', 'y', 't', 'h', 'o', 'n'}\n",
    "```"
   ]
  },
  {
   "cell_type": "code",
   "execution_count": 98,
   "metadata": {},
   "outputs": [
    {
     "ename": "TypeError",
     "evalue": "remove() takes exactly one argument (0 given)",
     "output_type": "error",
     "traceback": [
      "\u001b[0;31m---------------------------------------------------------------------------\u001b[0m",
      "\u001b[0;31mTypeError\u001b[0m                                 Traceback (most recent call last)",
      "\u001b[0;32m<ipython-input-98-d190098b2505>\u001b[0m in \u001b[0;36m<module>\u001b[0;34m()\u001b[0m\n\u001b[1;32m      5\u001b[0m \u001b[0mto\u001b[0m \u001b[0mremove\u001b[0m \u001b[0;32mand\u001b[0m \u001b[0;32mif\u001b[0m \u001b[0mthe\u001b[0m \u001b[0melement\u001b[0m \u001b[0mdoes\u001b[0m \u001b[0;32mnot\u001b[0m \u001b[0mexist\u001b[0m \u001b[0ma\u001b[0m \u001b[0mkeyError\u001b[0m\u001b[0;34m\u001b[0m\u001b[0;34m\u001b[0m\u001b[0m\n\u001b[1;32m      6\u001b[0m exception is thrown. '''\n\u001b[0;32m----> 7\u001b[0;31m \u001b[0mset_numbers\u001b[0m\u001b[0;34m.\u001b[0m\u001b[0mremove\u001b[0m\u001b[0;34m(\u001b[0m\u001b[0;34m)\u001b[0m\u001b[0;34m\u001b[0m\u001b[0;34m\u001b[0m\u001b[0m\n\u001b[0m\u001b[1;32m      8\u001b[0m \u001b[0mset_letters\u001b[0m\u001b[0;34m.\u001b[0m\u001b[0mremove\u001b[0m\u001b[0;34m(\u001b[0m\u001b[0;34m)\u001b[0m\u001b[0;34m\u001b[0m\u001b[0;34m\u001b[0m\u001b[0m\n\u001b[1;32m      9\u001b[0m \u001b[0;34m'If no argument is specified, it will cause a typeError error'\u001b[0m\u001b[0;34m\u001b[0m\u001b[0;34m\u001b[0m\u001b[0m\n",
      "\u001b[0;31mTypeError\u001b[0m: remove() takes exactly one argument (0 given)"
     ]
    }
   ],
   "source": [
    "set_numbers = {1, 2, 3, 4, 5}\n",
    "set_letters = {'p', 'y', 't', 'h', 'o', 'n'}\n",
    "''' Because set is not indexed we should use the remove()\n",
    "method where we scecify, as an argument, which element\n",
    "to remove and if the element does not exist a keyError\n",
    "exception is thrown. '''\n",
    "set_numbers.remove()\n",
    "set_letters.remove()\n",
    "'If no argument is specified, it will cause a typeError error'"
   ]
  },
  {
   "cell_type": "markdown",
   "metadata": {},
   "source": [
    "# 10. split list into 3 different variables \n",
    "```python\n",
    "color = [\n",
    "    (\"Black\", \"#000000\", \"rgb(0, 0, 0)\"), \n",
    "    (\"Red\", \"#FF0000\", \"rgb(255, 0, 0)\"), \n",
    "    (\"Yellow\", \"#FFFF00\", \"rgb(255, 255, 0)\")\n",
    "]\n",
    "```"
   ]
  },
  {
   "cell_type": "code",
   "execution_count": 99,
   "metadata": {},
   "outputs": [
    {
     "name": "stdout",
     "output_type": "stream",
     "text": [
      "('Black', '#000000', 'rgb(0, 0, 0)')\n",
      "('Red', '#FF0000', 'rgb(255, 0, 0)')\n",
      "('Yellow', '#FFFF00', 'rgb(255, 255, 0)')\n"
     ]
    }
   ],
   "source": [
    "color = [\n",
    "    (\"Black\", \"#000000\", \"rgb(0, 0, 0)\"), \n",
    "    (\"Red\", \"#FF0000\", \"rgb(255, 0, 0)\"), \n",
    "    (\"Yellow\", \"#FFFF00\", \"rgb(255, 255, 0)\")\n",
    "]\n",
    "black = color[0]\n",
    "red = color[1]\n",
    "yellow = color[2]\n",
    "print(black)\n",
    "print(red)\n",
    "print(yellow)"
   ]
  },
  {
   "cell_type": "markdown",
   "metadata": {},
   "source": [
    "# BONUS: test whether every element of first set is in second set ans vice versa using using relational operators\n",
    "```python\n",
    "set_a = set(['Chocolate', 'Strawberry', 'Vanilla', 'Caramel'])\n",
    "set_b = set(['Vanilla', 'Caramel','Chocolate', 'Strawberry'])\n",
    "set_c = set(['Chocolate'])\n",
    "```"
   ]
  },
  {
   "cell_type": "code",
   "execution_count": 100,
   "metadata": {},
   "outputs": [
    {
     "name": "stdout",
     "output_type": "stream",
     "text": [
      "True\n",
      "False\n",
      "True\n",
      "False\n",
      "False\n",
      "False\n"
     ]
    }
   ],
   "source": [
    "set_a = set(['Chocolate', 'Strawberry', 'Vanilla', 'Caramel'])\n",
    "set_b = set(['Vanilla', 'Caramel','Chocolate', 'Strawberry'])\n",
    "set_c = set(['Chocolate'])\n",
    "print(set_a == set_b)\n",
    "print(set_a == set_c)\n",
    "print(set_b == set_a)\n",
    "print(set_b == set_c)\n",
    "print(set_c == set_a)\n",
    "print(set_c == set_b)"
   ]
  },
  {
   "cell_type": "code",
   "execution_count": null,
   "metadata": {},
   "outputs": [],
   "source": []
  }
 ],
 "metadata": {
  "kernelspec": {
   "display_name": "Python 3",
   "language": "python",
   "name": "python3"
  },
  "language_info": {
   "codemirror_mode": {
    "name": "ipython",
    "version": 3
   },
   "file_extension": ".py",
   "mimetype": "text/x-python",
   "name": "python",
   "nbconvert_exporter": "python",
   "pygments_lexer": "ipython3",
   "version": "3.6.6+"
  }
 },
 "nbformat": 4,
 "nbformat_minor": 2
}
