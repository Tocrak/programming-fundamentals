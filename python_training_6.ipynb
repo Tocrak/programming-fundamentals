{
 "cells": [
  {
   "cell_type": "markdown",
   "metadata": {},
   "source": [
    "Lecture 1"
   ]
  },
  {
   "cell_type": "code",
   "execution_count": 6,
   "metadata": {},
   "outputs": [],
   "source": [
    "exercise = '''Exercise\n",
    "([ao]\\.)\n",
    "2 found\n",
    "[a-zA-Z0-9]+\n",
    "144 found\n",
    "[tT]{2}\n",
    "8 found\n",
    "[tT]{0,2}\n",
    "834 found'''"
   ]
  },
  {
   "cell_type": "code",
   "execution_count": 7,
   "metadata": {},
   "outputs": [],
   "source": [
    "import re"
   ]
  },
  {
   "cell_type": "code",
   "execution_count": 32,
   "metadata": {},
   "outputs": [
    {
     "name": "stdout",
     "output_type": "stream",
     "text": [
      "<_sre.SRE_Match object; span=(2, 3), match='a'>\n",
      "['a', 'a', 'a']\n"
     ]
    }
   ],
   "source": [
    "print(re.search('a', 'bcad'))\n",
    "print(re.findall('a', 'abcaa'))"
   ]
  },
  {
   "cell_type": "code",
   "execution_count": 23,
   "metadata": {},
   "outputs": [
    {
     "data": {
      "text/plain": [
       "'oo'"
      ]
     },
     "execution_count": 23,
     "metadata": {},
     "output_type": "execute_result"
    }
   ],
   "source": [
    "re.search(r'oo', 'i loove python').group()"
   ]
  },
  {
   "cell_type": "code",
   "execution_count": 22,
   "metadata": {},
   "outputs": [
    {
     "data": {
      "text/plain": [
       "'me@gmail.com'"
      ]
     },
     "execution_count": 22,
     "metadata": {},
     "output_type": "execute_result"
    }
   ],
   "source": [
    "re.search(r'\\w+@\\w+\\.com', 'me@gmail.com').group()"
   ]
  },
  {
   "cell_type": "code",
   "execution_count": 28,
   "metadata": {},
   "outputs": [
    {
     "name": "stdout",
     "output_type": "stream",
     "text": [
      "None\n"
     ]
    }
   ],
   "source": [
    "match = re.search(r'\\w+@\\w+\\.com', 'me@seznam.cz')\n",
    "if match:\n",
    "    print(match.group())\n",
    "else:\n",
    "    print('None')"
   ]
  },
  {
   "cell_type": "code",
   "execution_count": 37,
   "metadata": {},
   "outputs": [
    {
     "name": "stdout",
     "output_type": "stream",
     "text": [
      "Type a name: :;lk;lk\n",
      "Type it correctly: kjhoh\n",
      "Type it correctly: lkjlkj\n",
      "Type it correctly: Iijuoj\n"
     ]
    }
   ],
   "source": [
    "name = input('Type a name: ')\n",
    "bad_name = True\n",
    "while bad_name:\n",
    "    if re.search(r'^[A-Z][a-z]+$',name):\n",
    "        bad_name = False\n",
    "    else:\n",
    "        name = input('Type it correctly: ')"
   ]
  },
  {
   "cell_type": "code",
   "execution_count": null,
   "metadata": {},
   "outputs": [],
   "source": []
  }
 ],
 "metadata": {
  "kernelspec": {
   "display_name": "Python 3",
   "language": "python",
   "name": "python3"
  },
  "language_info": {
   "codemirror_mode": {
    "name": "ipython",
    "version": 3
   },
   "file_extension": ".py",
   "mimetype": "text/x-python",
   "name": "python",
   "nbconvert_exporter": "python",
   "pygments_lexer": "ipython3",
   "version": "3.6.6+"
  }
 },
 "nbformat": 4,
 "nbformat_minor": 2
}
