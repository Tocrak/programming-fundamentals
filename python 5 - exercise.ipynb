{
 "cells": [
  {
   "cell_type": "markdown",
   "metadata": {},
   "source": [
    "# W8 - Python files and modules"
   ]
  },
  {
   "cell_type": "markdown",
   "metadata": {},
   "source": [
    "# 1. Write function to read first n lines of a file"
   ]
  },
  {
   "cell_type": "code",
   "execution_count": 1,
   "metadata": {},
   "outputs": [],
   "source": [
    "def read_file(file, line_nr):\n",
    "    current_file = open(file, 'r')\n",
    "    lines = 0\n",
    "    for current_line in current_file:\n",
    "        print(current_line)\n",
    "        lines += 1\n",
    "        if lines == line_nr:\n",
    "            break\n",
    "    current_file.close()"
   ]
  },
  {
   "cell_type": "code",
   "execution_count": 2,
   "metadata": {},
   "outputs": [
    {
     "name": "stdout",
     "output_type": "stream",
     "text": [
      "Number of lines: 4\n",
      "appnope==0.1.0\n",
      "\n",
      "backcall==0.1.0\n",
      "\n",
      "bleach==2.1.3\n",
      "\n",
      "certifi==2018.4.16\n",
      "\n"
     ]
    }
   ],
   "source": [
    "read_file('requirements.txt', int(input('Number of lines: ')))"
   ]
  },
  {
   "cell_type": "markdown",
   "metadata": {},
   "source": [
    "# 2. Create script that will count vowels in string\n",
    "Example\n",
    "```shell\n",
    "$ python find_vowels.py 'hello world'\n",
    "hello world contains 3 vowels\n",
    "```"
   ]
  },
  {
   "cell_type": "code",
   "execution_count": 3,
   "metadata": {},
   "outputs": [
    {
     "name": "stdout",
     "output_type": "stream",
     "text": [
      "-f contains 0 vowels\n"
     ]
    },
    {
     "data": {
      "text/plain": [
       "3"
      ]
     },
     "execution_count": 3,
     "metadata": {},
     "output_type": "execute_result"
    }
   ],
   "source": [
    "from python_5_exercise_2_script import count_vowels\n",
    "count_vowels('hello world')"
   ]
  },
  {
   "cell_type": "markdown",
   "metadata": {},
   "source": [
    "# 3. Write function to count number of lines in a file\n",
    "Example\n",
    "```python\n",
    ">>>count_lines('myfile.txt')\n",
    "File has 12 lines\n",
    "```"
   ]
  },
  {
   "cell_type": "code",
   "execution_count": 4,
   "metadata": {},
   "outputs": [],
   "source": [
    "def count_lines(file):\n",
    "    current_file = open(file, 'r')\n",
    "    lines = 0\n",
    "    for current_line in current_file:\n",
    "        lines += 1\n",
    "    print('File has {0} lines'.format(lines))\n",
    "    current_file.close()"
   ]
  },
  {
   "cell_type": "code",
   "execution_count": 5,
   "metadata": {},
   "outputs": [
    {
     "name": "stdout",
     "output_type": "stream",
     "text": [
      "File has 58 lines\n"
     ]
    }
   ],
   "source": [
    "count_lines('requirements.txt')"
   ]
  },
  {
   "cell_type": "markdown",
   "metadata": {},
   "source": [
    "# 4. Write function to count occurrence of given word in file\n",
    "Example\n",
    "```python\n",
    ">>>count_occurence('myfile.txt', 'apple')\n",
    "Searched term apple appeared 10 times\n",
    "```"
   ]
  },
  {
   "cell_type": "code",
   "execution_count": 6,
   "metadata": {},
   "outputs": [],
   "source": [
    "def count_occurence(file, string):\n",
    "    current_file = open(file, 'r')\n",
    "    occurences = 0\n",
    "    for current_line in current_file:\n",
    "        occurences += current_line.count(string)\n",
    "    print('Searched term {0} appeared {1} times'.format(string, occurences))\n",
    "    current_file.close()"
   ]
  },
  {
   "cell_type": "code",
   "execution_count": 7,
   "metadata": {},
   "outputs": [
    {
     "name": "stdout",
     "output_type": "stream",
     "text": [
      "Searched term 0.1.0 appeared 2 times\n"
     ]
    }
   ],
   "source": [
    "count_occurence('requirements.txt', '0.1.0')"
   ]
  },
  {
   "cell_type": "markdown",
   "metadata": {},
   "source": [
    "# 5. Write function to copy the contents of a file to another file\n",
    "\n",
    "```python\n",
    ">>>copy file('myfile.txt', 'myfile2.txt')\n",
    "```"
   ]
  },
  {
   "cell_type": "code",
   "execution_count": 8,
   "metadata": {},
   "outputs": [],
   "source": [
    "def copy_file(file1, file2):\n",
    "    with open(file1) as f:\n",
    "        with open(file2, \"w\") as f1:\n",
    "            for line in f:\n",
    "                f1.write(line)"
   ]
  },
  {
   "cell_type": "code",
   "execution_count": 9,
   "metadata": {},
   "outputs": [],
   "source": [
    "copy_file('my_module.py', 'untitled.txt')"
   ]
  },
  {
   "cell_type": "markdown",
   "metadata": {},
   "source": [
    "# 6. Write function to write nested list to file, each list on separate line\n",
    "Example data `my_list = [['a', 'b', 'c'], [1,2,3]]`"
   ]
  },
  {
   "cell_type": "code",
   "execution_count": 10,
   "metadata": {},
   "outputs": [],
   "source": [
    "def write_list(file, in_list):\n",
    "    with open(file, 'w') as f:\n",
    "        for line in in_list:\n",
    "            f.write(str(line))\n",
    "            f.write('\\n')"
   ]
  },
  {
   "cell_type": "code",
   "execution_count": 11,
   "metadata": {},
   "outputs": [],
   "source": [
    "my_list = [['a', 'b', 'c'], [1,2,3]]\n",
    "write_list('untitled.txt', my_list)"
   ]
  },
  {
   "cell_type": "markdown",
   "metadata": {},
   "source": [
    "# 7. Write function to read  random line from a file"
   ]
  },
  {
   "cell_type": "code",
   "execution_count": 12,
   "metadata": {},
   "outputs": [],
   "source": [
    "import random\n",
    "def read_random_line(file):\n",
    "    lines = open(file).read().splitlines()\n",
    "    myline = random.choice(lines)\n",
    "    print(myline)"
   ]
  },
  {
   "cell_type": "code",
   "execution_count": 13,
   "metadata": {},
   "outputs": [
    {
     "name": "stdout",
     "output_type": "stream",
     "text": [
      "jupyter-core==4.4.0\n"
     ]
    }
   ],
   "source": [
    "read_random_line('requirements.txt')"
   ]
  },
  {
   "cell_type": "markdown",
   "metadata": {},
   "source": [
    "# 8. Write function to read nth, n-1 and n+1 lines of file\n",
    "Example\n",
    "```python\n",
    ">>>read_specific_lines('myfile.txt', 10)\n",
    "```\n",
    "```\n",
    "Errors should never pass silently.\n",
    "Unless explicitly silenced.\n",
    "In the face of ambiguity, refuse the temptation to guess.\n",
    "```"
   ]
  },
  {
   "cell_type": "code",
   "execution_count": 14,
   "metadata": {},
   "outputs": [],
   "source": [
    "def read_specific_lines(file, req_line):\n",
    "    lines = open(file).read().splitlines()\n",
    "    for i,line in enumerate(lines):\n",
    "        if i == req_line-1:\n",
    "            if req_line == 1:\n",
    "                print(lines[i])\n",
    "                print(lines[i+1])\n",
    "            elif req_line == len(lines):\n",
    "                print(lines[i-1])\n",
    "                print(lines[i])\n",
    "            else:\n",
    "                print(lines[i-1])\n",
    "                print(lines[i])\n",
    "                print(lines[i+1])\n",
    "            break"
   ]
  },
  {
   "cell_type": "code",
   "execution_count": 15,
   "metadata": {},
   "outputs": [
    {
     "name": "stdout",
     "output_type": "stream",
     "text": [
      "certifi==2018.4.16\n",
      "chardet==3.0.4\n",
      "click==6.7\n"
     ]
    }
   ],
   "source": [
    "read_specific_lines('requirements.txt', 5)"
   ]
  },
  {
   "cell_type": "markdown",
   "metadata": {},
   "source": [
    "# 9. Write function to read file and find the longest word\n",
    "Example\n",
    "```python\n",
    ">>>find_longest_word('myfile.txt')\n",
    "supercalifragilisticexpialidocious\n",
    "```"
   ]
  },
  {
   "cell_type": "code",
   "execution_count": 16,
   "metadata": {},
   "outputs": [],
   "source": [
    "def find_longest_word(file):\n",
    "    text = open(file, 'r').read()\n",
    "    word_list = text.split()\n",
    "    longest_word = ''\n",
    "    for word in word_list:\n",
    "        if len(longest_word) < len(word):\n",
    "            longest_word = word\n",
    "    print(longest_word)"
   ]
  },
  {
   "cell_type": "code",
   "execution_count": 17,
   "metadata": {},
   "outputs": [
    {
     "name": "stdout",
     "output_type": "stream",
     "text": [
      "dash-core-components==0.22.1\n"
     ]
    }
   ],
   "source": [
    "find_longest_word('requirements.txt')"
   ]
  },
  {
   "cell_type": "markdown",
   "metadata": {},
   "source": [
    "# 10. Write function to concatenate 2 files together and store them as new file\n",
    "```\n",
    ">>>concatenate_files('myfile1.txt', 'myfile2.txt', 'myfile_new.txt')\n",
    "```"
   ]
  },
  {
   "cell_type": "code",
   "execution_count": 18,
   "metadata": {},
   "outputs": [],
   "source": [
    "def concatenate_files(file1, file2, file3):\n",
    "    with open(file1, 'r') as outfile1:\n",
    "        with open(file2, 'r') as outfile2:\n",
    "            with open(file3, 'w') as infile:\n",
    "                for linef1 in outfile1:\n",
    "                    infile.write(linef1)\n",
    "                infile.write('\\n\\n')\n",
    "                for linef2 in outfile2:\n",
    "                    infile.write(linef2)"
   ]
  },
  {
   "cell_type": "code",
   "execution_count": 19,
   "metadata": {},
   "outputs": [],
   "source": [
    "concatenate_files('file1.txt', 'file2.txt', 'file3.txt')"
   ]
  },
  {
   "cell_type": "markdown",
   "metadata": {},
   "source": [
    "# BONUS: Write function to read file and print only words containing letters 'p', 'y', 't', 'o' or 'n' and make these letters uppercase\n",
    "Example\n",
    "```python\n",
    ">>>print_selected_words('myfile.txt')\n",
    "lOve\n",
    "simPliciTY\n",
    "PaTieNce\n",
    "```"
   ]
  },
  {
   "cell_type": "code",
   "execution_count": 20,
   "metadata": {},
   "outputs": [],
   "source": [
    "def print_seleted_words(file):\n",
    "    text = open(file, 'r').read()\n",
    "    word_list = text.split()\n",
    "    for word in word_list:\n",
    "        if ('p' in word) or ('y' in word) or ('t' in word) or ('h' in word) or ('o' in word) or ('n' in word):\n",
    "            if 'p' in word:\n",
    "                word = word.replace('p', 'P')\n",
    "            if 'y' in word:\n",
    "                word = word.replace('y', 'Y')\n",
    "            if 't' in word:\n",
    "                word = word.replace('t', 'T')\n",
    "            if 'h' in word:\n",
    "                word = word.replace('h', 'H')\n",
    "            if 'o' in word:\n",
    "                word = word.replace('o', 'O')\n",
    "            if 'n' in word:\n",
    "                word = word.replace('n', 'N')\n",
    "            print(word)"
   ]
  },
  {
   "cell_type": "code",
   "execution_count": 21,
   "metadata": {},
   "outputs": [],
   "source": [
    "print_seleted_words('untitled.txt')"
   ]
  },
  {
   "cell_type": "code",
   "execution_count": null,
   "metadata": {},
   "outputs": [],
   "source": []
  }
 ],
 "metadata": {
  "kernelspec": {
   "display_name": "Python 3",
   "language": "python",
   "name": "python3"
  },
  "language_info": {
   "codemirror_mode": {
    "name": "ipython",
    "version": 3
   },
   "file_extension": ".py",
   "mimetype": "text/x-python",
   "name": "python",
   "nbconvert_exporter": "python",
   "pygments_lexer": "ipython3",
   "version": "3.6.6+"
  }
 },
 "nbformat": 4,
 "nbformat_minor": 2
}
