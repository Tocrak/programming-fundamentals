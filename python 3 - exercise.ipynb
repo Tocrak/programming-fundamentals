{
 "cells": [
  {
   "cell_type": "markdown",
   "metadata": {},
   "source": [
    "# W6 - Python functions assignment"
   ]
  },
  {
   "cell_type": "markdown",
   "metadata": {},
   "source": [
    "# 1. You are investigating set of suspicious emails\n",
    "You read article that clients with numbers in email addresses are more likely to commit fraud. Create function that will take as parameters list of emails and searched symbol and will return ratio of emails containing given symbol.\n",
    "Example\n",
    "```python\n",
    "emails = [\n",
    "    'james1@example.com', 'januline12@januline.com', 'fillip.morris@pm.com', 'ray@bradbury.org', 'me+you@hotmail.com', 'seven11@gmail.com', 'noreply@msd.com', 'cars4u@tesla.com' \n",
    "]\n",
    ">>> find_symbol_emails(emails, '1')\n",
    "0.375\n",
    "```"
   ]
  },
  {
   "cell_type": "code",
   "execution_count": 1,
   "metadata": {},
   "outputs": [],
   "source": [
    "def find_symbol_emails(emails, searched_symbol):\n",
    "    email_nr = 0\n",
    "    symbol = 0\n",
    "    for address in emails:\n",
    "        email_nr += 1\n",
    "        for letter in address:\n",
    "            if letter == searched_symbol:\n",
    "                symbol += 1\n",
    "                break\n",
    "    return symbol / email_nr"
   ]
  },
  {
   "cell_type": "code",
   "execution_count": 2,
   "metadata": {},
   "outputs": [
    {
     "data": {
      "text/plain": [
       "0.375"
      ]
     },
     "execution_count": 2,
     "metadata": {},
     "output_type": "execute_result"
    }
   ],
   "source": [
    "emails = [\n",
    "    'james1@example.com', 'januline12@januline.com', 'fillip.morris@pm.com', 'ray@bradbury.org', 'me+you@hotmail.com', 'seven11@gmail.com', 'noreply@msd.com', 'cars4u@tesla.com' \n",
    "]\n",
    "find_symbol_emails(emails, '1')"
   ]
  },
  {
   "cell_type": "markdown",
   "metadata": {},
   "source": [
    "# 2. Using function from the previous exercise\n",
    "Create another function that will have as an input list of emails and list of symbols and will return dictionary with symbol occurrence in email list\n",
    "\n",
    "Example\n",
    "```python\n",
    ">>> find_symbol_list_emails(emails, ['1', '2', '+', '.'])\n",
    "{'1' : 0.375, '2' : 0.125, '+' : 0.125, '.' : 0}\n",
    "```"
   ]
  },
  {
   "cell_type": "code",
   "execution_count": 3,
   "metadata": {},
   "outputs": [],
   "source": [
    "def find_symbol_emails_list(emails, searched_symbols):\n",
    "    result_dict = {}\n",
    "    for current_symbol in searched_symbols:\n",
    "        result_dict.update({current_symbol: find_symbol_emails(emails, current_symbol)})\n",
    "    return result_dict"
   ]
  },
  {
   "cell_type": "code",
   "execution_count": 4,
   "metadata": {},
   "outputs": [
    {
     "data": {
      "text/plain": [
       "{'1': 0.375, '2': 0.125, '+': 0.125, '.': 1.0}"
      ]
     },
     "execution_count": 4,
     "metadata": {},
     "output_type": "execute_result"
    }
   ],
   "source": [
    "emails = [\n",
    "    'james1@example.com', 'januline12@januline.com', 'fillip.morris@pm.com', 'ray@bradbury.org', 'me+you@hotmail.com', 'seven11@gmail.com', 'noreply@msd.com', 'cars4u@tesla.com' \n",
    "]\n",
    "find_symbol_emails_list(emails, ['1', '2', '+', '.'])"
   ]
  },
  {
   "cell_type": "markdown",
   "metadata": {},
   "source": [
    "# 3. Write function to multiply all the numbers in a list"
   ]
  },
  {
   "cell_type": "code",
   "execution_count": 5,
   "metadata": {},
   "outputs": [],
   "source": [
    "def multiply(numbers_list, number):\n",
    "    for index, current_number in enumerate(numbers_list):\n",
    "        numbers_list[index] = current_number * number\n",
    "    return numbers_list"
   ]
  },
  {
   "cell_type": "code",
   "execution_count": 6,
   "metadata": {},
   "outputs": [
    {
     "data": {
      "text/plain": [
       "[3, 21, 9]"
      ]
     },
     "execution_count": 6,
     "metadata": {},
     "output_type": "execute_result"
    }
   ],
   "source": [
    "multiply([1,7,3], 3)"
   ]
  },
  {
   "cell_type": "markdown",
   "metadata": {},
   "source": [
    "# 4. Write function that takes integer (x) and returns 3 values (x^2, x^3, x^4)\n",
    "\n",
    "Example\n",
    "```python\n",
    ">>>compute_num(2)\n",
    "4, 8, 16\n",
    "```"
   ]
  },
  {
   "cell_type": "code",
   "execution_count": 7,
   "metadata": {},
   "outputs": [],
   "source": [
    "def compute_num(number):\n",
    "    number1 = number ** 2\n",
    "    number2 = number ** 3\n",
    "    number3 = number ** 4\n",
    "    return (number1,number2, number3)"
   ]
  },
  {
   "cell_type": "code",
   "execution_count": 8,
   "metadata": {},
   "outputs": [
    {
     "name": "stdout",
     "output_type": "stream",
     "text": [
      "4 8 16\n"
     ]
    }
   ],
   "source": [
    "print(*compute_num(2))"
   ]
  },
  {
   "cell_type": "markdown",
   "metadata": {},
   "source": [
    "# 5. Create function to transform Fahrenheit degrees to Celsius"
   ]
  },
  {
   "cell_type": "code",
   "execution_count": 9,
   "metadata": {},
   "outputs": [],
   "source": [
    "temperature_c = (lambda temperature_f: (temperature_f - 32) / 1.8)"
   ]
  },
  {
   "cell_type": "code",
   "execution_count": 10,
   "metadata": {},
   "outputs": [
    {
     "name": "stdout",
     "output_type": "stream",
     "text": [
      "-17.78\n"
     ]
    }
   ],
   "source": [
    "print(round(temperature_c(0), 2))"
   ]
  },
  {
   "cell_type": "markdown",
   "metadata": {},
   "source": [
    "# 6. Write function that accepts an integer (n) and computes the value of nnn-nn-n"
   ]
  },
  {
   "cell_type": "code",
   "execution_count": 11,
   "metadata": {},
   "outputs": [],
   "source": [
    "ex6 = (lambda n: (n*100 + n*10 + n) - (n*10 + n) - n)"
   ]
  },
  {
   "cell_type": "code",
   "execution_count": 12,
   "metadata": {},
   "outputs": [
    {
     "name": "stdout",
     "output_type": "stream",
     "text": [
      "99\n"
     ]
    }
   ],
   "source": [
    "print(ex6(1))"
   ]
  },
  {
   "cell_type": "markdown",
   "metadata": {},
   "source": [
    "# 7. Lucky ticket\n",
    "Create function that\n",
    "1. Asks user to input 6-digit number\n",
    "2. Check if input contains only numbers and has 6 numbers\n",
    "    - If no, ask user to type again\n",
    "3. Compute whether sum of first 3 digit equals sum of second 3 digit\n",
    "    - If yes, prints congratulation\n",
    "Example\n",
    "```python\n",
    ">>>lucky_ticket()\n",
    "type 6-digit ticket number: 332440\n",
    "You are lucky person!\n",
    "```"
   ]
  },
  {
   "cell_type": "code",
   "execution_count": 13,
   "metadata": {},
   "outputs": [],
   "source": [
    "def lucky_ticket():\n",
    "    number = int(input('Type 6-digit ticket number: '))\n",
    "    if number < 100000:\n",
    "        number = int(input('Type another 6-digit ticket number: '))\n",
    "    number_separated = list(str(number))\n",
    "    sum1 = int(number_separated[0]) + int(number_separated[1]) + int(number_separated[2])\n",
    "    sum2 = int(number_separated[3]) + int(number_separated[4]) + int(number_separated[5])\n",
    "    if sum1 == sum2:\n",
    "        print('Congratulations! You have a lucky ticket!')\n",
    "    else:\n",
    "        print('Better luck next time')"
   ]
  },
  {
   "cell_type": "code",
   "execution_count": 14,
   "metadata": {},
   "outputs": [
    {
     "name": "stdout",
     "output_type": "stream",
     "text": [
      "Type 6-digit ticket number: 55354\n",
      "Type another 6-digit ticket number: 332440\n",
      "Congratulations! You have a lucky ticket!\n"
     ]
    }
   ],
   "source": [
    "lucky_ticket()"
   ]
  },
  {
   "cell_type": "markdown",
   "metadata": {},
   "source": [
    "# 8. Get first and last elements\n",
    "Create a function that takes a list of numbers and makes a new list of only the first and last elements of the given list.\n",
    "\n",
    "e.g.\n",
    "```python\n",
    ">>> first_last([5, 10, 15, 20, 25])\n",
    "[5,25]\n",
    ">>> first_last([5])\n",
    "[5]\n",
    ">>> first_last([])\n",
    "[]\n",
    "```"
   ]
  },
  {
   "cell_type": "code",
   "execution_count": 15,
   "metadata": {},
   "outputs": [],
   "source": [
    "def first_last(number_list):\n",
    "    result_list = []\n",
    "    result_list.append(number_list[0])\n",
    "    result_list.append(number_list[len(number_list)-1])\n",
    "    return result_list"
   ]
  },
  {
   "cell_type": "code",
   "execution_count": 16,
   "metadata": {},
   "outputs": [
    {
     "data": {
      "text/plain": [
       "[5, 25]"
      ]
     },
     "execution_count": 16,
     "metadata": {},
     "output_type": "execute_result"
    }
   ],
   "source": [
    "first_last([5, 10, 15, 20, 25])"
   ]
  },
  {
   "cell_type": "markdown",
   "metadata": {},
   "source": [
    "# 9. Create function to make all letters in string upper case and add *\n",
    "Example\n",
    "```python\n",
    ">>>make_fancy_string('hello')\n",
    "***HELLO***\n",
    "```"
   ]
  },
  {
   "cell_type": "code",
   "execution_count": 17,
   "metadata": {},
   "outputs": [],
   "source": [
    "def make_fancy_string(word='hello'):\n",
    "    word = '***' + word.upper() + '***'\n",
    "    print(word)"
   ]
  },
  {
   "cell_type": "code",
   "execution_count": 18,
   "metadata": {},
   "outputs": [
    {
     "name": "stdout",
     "output_type": "stream",
     "text": [
      "***HELLO***\n"
     ]
    }
   ],
   "source": [
    "make_fancy_string()"
   ]
  },
  {
   "cell_type": "markdown",
   "metadata": {},
   "source": [
    "# 10. Write function to check whether string is palindrome\n",
    "Example\n",
    "```python\n",
    ">>>check_palindrome('ABBA')\n",
    "True\n",
    "```"
   ]
  },
  {
   "cell_type": "code",
   "execution_count": 19,
   "metadata": {},
   "outputs": [],
   "source": [
    "def check_palindrome(word):\n",
    "    string1 = word[0:(len(word)//2)]\n",
    "    string2 = word[(len(word)//2):]\n",
    "    if string1 == string2[::-1]:\n",
    "        return True\n",
    "    else:\n",
    "        return False"
   ]
  },
  {
   "cell_type": "code",
   "execution_count": 20,
   "metadata": {},
   "outputs": [
    {
     "data": {
      "text/plain": [
       "True"
      ]
     },
     "execution_count": 20,
     "metadata": {},
     "output_type": "execute_result"
    }
   ],
   "source": [
    "check_palindrome('ABBA')"
   ]
  },
  {
   "cell_type": "markdown",
   "metadata": {},
   "source": [
    "# BONUS: create function that has as an input 3 letters and returns all permutations of letters"
   ]
  },
  {
   "cell_type": "code",
   "execution_count": 23,
   "metadata": {},
   "outputs": [],
   "source": [
    "def permutations(letters='abc'):\n",
    "    for i in letters:\n",
    "        for j in letters:\n",
    "            if j != i:\n",
    "                for k in letters:\n",
    "                    if k != i:\n",
    "                        if k != j:\n",
    "                            print(i,j,k,sep='')"
   ]
  },
  {
   "cell_type": "code",
   "execution_count": 24,
   "metadata": {},
   "outputs": [
    {
     "name": "stdout",
     "output_type": "stream",
     "text": [
      "abc\n",
      "acb\n",
      "bac\n",
      "bca\n",
      "cab\n",
      "cba\n"
     ]
    }
   ],
   "source": [
    "permutations()"
   ]
  },
  {
   "cell_type": "code",
   "execution_count": null,
   "metadata": {},
   "outputs": [],
   "source": []
  }
 ],
 "metadata": {
  "kernelspec": {
   "display_name": "Python 3",
   "language": "python",
   "name": "python3"
  },
  "language_info": {
   "codemirror_mode": {
    "name": "ipython",
    "version": 3
   },
   "file_extension": ".py",
   "mimetype": "text/x-python",
   "name": "python",
   "nbconvert_exporter": "python",
   "pygments_lexer": "ipython3",
   "version": "3.6.6+"
  }
 },
 "nbformat": 4,
 "nbformat_minor": 2
}
