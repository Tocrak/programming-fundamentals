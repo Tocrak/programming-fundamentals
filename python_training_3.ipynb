{
 "cells": [
  {
   "cell_type": "markdown",
   "metadata": {},
   "source": [
    "Lecture 1"
   ]
  },
  {
   "cell_type": "code",
   "execution_count": 9,
   "metadata": {},
   "outputs": [],
   "source": [
    "def divide_numbers(nr1=1,nr2=1):\n",
    "    print(nr1/nr2)"
   ]
  },
  {
   "cell_type": "code",
   "execution_count": 10,
   "metadata": {},
   "outputs": [
    {
     "name": "stdout",
     "output_type": "stream",
     "text": [
      "4\n",
      "2\n",
      "2.0\n"
     ]
    }
   ],
   "source": [
    "divide_numbers(int(input()),int(input()))"
   ]
  },
  {
   "cell_type": "code",
   "execution_count": 16,
   "metadata": {},
   "outputs": [],
   "source": [
    "def list_sum(numbers):\n",
    "    sum = 0\n",
    "    for val in numbers:\n",
    "        sum += val\n",
    "    print(sum)"
   ]
  },
  {
   "cell_type": "code",
   "execution_count": 18,
   "metadata": {},
   "outputs": [
    {
     "name": "stdout",
     "output_type": "stream",
     "text": [
      "17\n"
     ]
    }
   ],
   "source": [
    "list_sum([5,2,10])"
   ]
  },
  {
   "cell_type": "code",
   "execution_count": 19,
   "metadata": {},
   "outputs": [],
   "source": [
    "compare_list = (lambda input_list : 'Big list' if len(input_list) > 5 else 'Small list')"
   ]
  },
  {
   "cell_type": "code",
   "execution_count": 22,
   "metadata": {},
   "outputs": [
    {
     "data": {
      "text/plain": [
       "'Big list'"
      ]
     },
     "execution_count": 22,
     "metadata": {},
     "output_type": "execute_result"
    }
   ],
   "source": [
    "compare_list([4,6,2,1,6,7])"
   ]
  },
  {
   "cell_type": "code",
   "execution_count": 81,
   "metadata": {},
   "outputs": [],
   "source": [
    "import string\n",
    "def text_analyze(text):\n",
    "    up_letter = 0\n",
    "    low_letter = 0\n",
    "    for letter in text:\n",
    "        for up in string.ascii_uppercase:\n",
    "                if letter == up:\n",
    "                    up_letter += 1\n",
    "        for low in string.ascii_lowercase:\n",
    "                if letter == low:\n",
    "                    low_letter += 1\n",
    "    print('''String: {0}\n",
    "Uppercase letters: {1}\n",
    "Lowercase latters: {2}'''.format(text, up_letter, low_letter))"
   ]
  },
  {
   "cell_type": "code",
   "execution_count": 82,
   "metadata": {},
   "outputs": [
    {
     "name": "stdout",
     "output_type": "stream",
     "text": [
      "String: Peter Piper picked a peck of pickled peppers. A peck of pickled peppers Peter\n",
      "Piper picked.If Peter Piper picked a peck of pickled peppers, where’s the peck of pickled\n",
      "peppers Peter Piper picked?\n",
      "Uppercase letters: 10\n",
      "Lowercase latters: 148\n"
     ]
    }
   ],
   "source": [
    "text = '''Peter Piper picked a peck of pickled peppers. A peck of pickled peppers Peter\n",
    "Piper picked.If Peter Piper picked a peck of pickled peppers, where’s the peck of pickled\n",
    "peppers Peter Piper picked?'''\n",
    "text_analyze(text)"
   ]
  },
  {
   "cell_type": "markdown",
   "metadata": {},
   "source": [
    "Lecture 2"
   ]
  },
  {
   "cell_type": "code",
   "execution_count": 1,
   "metadata": {},
   "outputs": [
    {
     "name": "stdout",
     "output_type": "stream",
     "text": [
      "18\n"
     ]
    }
   ],
   "source": [
    "sum_all = (lambda a,b,c: a + b + c)\n",
    "print(sum_all(5,6,7))"
   ]
  },
  {
   "cell_type": "code",
   "execution_count": 4,
   "metadata": {},
   "outputs": [],
   "source": [
    "def meal_pay(cost,voucher):\n",
    "    pay_voucher = cost // voucher\n",
    "    pay_cash = cost % voucher\n",
    "    print('''Lunch cost: {0} CZK\n",
    "    Pay in cash: {1} CZK\n",
    "    Pay in meal vouchers: {2} pcs, {3} CZK each'''.format(cost, pay_cash, pay_voucher, voucher))"
   ]
  },
  {
   "cell_type": "code",
   "execution_count": 5,
   "metadata": {},
   "outputs": [
    {
     "name": "stdout",
     "output_type": "stream",
     "text": [
      "500\n",
      "74\n",
      "Lunch cost: 500 CZK\n",
      "    Pay in cash: 56 CZK\n",
      "    Pay in meal vouchers: 6 pcs, 74 CZK each\n"
     ]
    }
   ],
   "source": [
    "meal_pay(int(input()), int(input()))"
   ]
  },
  {
   "cell_type": "code",
   "execution_count": 15,
   "metadata": {},
   "outputs": [],
   "source": [
    "def factorial_recursive(number):\n",
    "    if number == 0:\n",
    "        return 1\n",
    "    else:\n",
    "        factorial = number * factorial_recursive(number-1)\n",
    "    return factorial"
   ]
  },
  {
   "cell_type": "code",
   "execution_count": 20,
   "metadata": {},
   "outputs": [
    {
     "name": "stdout",
     "output_type": "stream",
     "text": [
      "24\n"
     ]
    }
   ],
   "source": [
    "print(factorial_recursive(4))"
   ]
  },
  {
   "cell_type": "code",
   "execution_count": 41,
   "metadata": {},
   "outputs": [],
   "source": [
    "vowel_or_not = (lambda letter: 'Vowel' if letter.lower() in 'aoieu' else 'Not vowel')"
   ]
  },
  {
   "cell_type": "code",
   "execution_count": 42,
   "metadata": {},
   "outputs": [
    {
     "name": "stdout",
     "output_type": "stream",
     "text": [
      "P\n",
      "I\n",
      "Letter P: Not vowel\n",
      "Letter I: Vowel\n"
     ]
    }
   ],
   "source": [
    "letter1 = input()\n",
    "letter2 = input()\n",
    "print('''Letter {0}: {1}\n",
    "Letter {2}: {3}'''.format(letter1, vowel_or_not(letter1), letter2, vowel_or_not(letter2)))"
   ]
  },
  {
   "cell_type": "code",
   "execution_count": 51,
   "metadata": {},
   "outputs": [],
   "source": [
    "def count_vowels(word):\n",
    "    vowels = 0\n",
    "    for letter in word:\n",
    "        if letter.lower() in 'aeiou':\n",
    "            vowels +=1\n",
    "    return vowels"
   ]
  },
  {
   "cell_type": "code",
   "execution_count": 52,
   "metadata": {},
   "outputs": [
    {
     "name": "stdout",
     "output_type": "stream",
     "text": [
      "alacataba\n"
     ]
    },
    {
     "data": {
      "text/plain": [
       "5"
      ]
     },
     "execution_count": 52,
     "metadata": {},
     "output_type": "execute_result"
    }
   ],
   "source": [
    "count_vowels(input())"
   ]
  },
  {
   "cell_type": "code",
   "execution_count": 67,
   "metadata": {},
   "outputs": [],
   "source": [
    "def count_vowels_list(word_list):\n",
    "    vowels = 0\n",
    "    result_dict = {}\n",
    "    for current_word in word_list:\n",
    "        for letter in current_word:\n",
    "            if letter.lower() in 'aeiou':\n",
    "                vowels +=1\n",
    "        result_dict.update({current_word: vowels})\n",
    "        vowels = 0\n",
    "    return result_dict"
   ]
  },
  {
   "cell_type": "code",
   "execution_count": 68,
   "metadata": {},
   "outputs": [
    {
     "data": {
      "text/plain": [
       "{'apple': 2, 'bananas': 3, 'krk': 0}"
      ]
     },
     "execution_count": 68,
     "metadata": {},
     "output_type": "execute_result"
    }
   ],
   "source": [
    "count_vowels_list(['apple', 'bananas', 'krk'])"
   ]
  },
  {
   "cell_type": "code",
   "execution_count": null,
   "metadata": {},
   "outputs": [],
   "source": []
  }
 ],
 "metadata": {
  "kernelspec": {
   "display_name": "Python 3",
   "language": "python",
   "name": "python3"
  },
  "language_info": {
   "codemirror_mode": {
    "name": "ipython",
    "version": 3
   },
   "file_extension": ".py",
   "mimetype": "text/x-python",
   "name": "python",
   "nbconvert_exporter": "python",
   "pygments_lexer": "ipython3",
   "version": "3.6.6+"
  }
 },
 "nbformat": 4,
 "nbformat_minor": 2
}
