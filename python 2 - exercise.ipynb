{
 "cells": [
  {
   "cell_type": "markdown",
   "metadata": {},
   "source": [
    "# W5 - Python conditions and loops assignment"
   ]
  },
  {
   "cell_type": "markdown",
   "metadata": {},
   "source": [
    "# 1. Using for loop, create nested list from dictionary, see example\n",
    "```python\n",
    "fruits = {'banana':3,'apple':2, 'mango':1, 'kiwi':5}\n",
    "fruits_list = [['banana', 'banana', 'banana'], ['apple', 'apple'], ['mango'], ['kiwi', 'kiwi', 'kiwi', 'kiwi', 'kiwi']]\n",
    "```"
   ]
  },
  {
   "cell_type": "code",
   "execution_count": 1,
   "metadata": {},
   "outputs": [
    {
     "name": "stdout",
     "output_type": "stream",
     "text": [
      "[['banana', 'banana', 'banana'], ['apple', 'apple'], ['mango'], ['kiwi', 'kiwi', 'kiwi', 'kiwi', 'kiwi']]\n"
     ]
    }
   ],
   "source": [
    "fruits = {'banana':3,'apple':2, 'mango':1, 'kiwi':5}\n",
    "fruits_list = [[fr]*val for fr,val in fruits.items()]\n",
    "print(fruits_list)"
   ]
  },
  {
   "cell_type": "markdown",
   "metadata": {},
   "source": [
    "# 2. Select the shortest element from the list\n",
    "```python\n",
    "fruits = ['banana','apple', 'mango', 'kiwi']\n",
    "shortest_fruit = 'kiwi'\n",
    "```"
   ]
  },
  {
   "cell_type": "code",
   "execution_count": 2,
   "metadata": {},
   "outputs": [
    {
     "name": "stdout",
     "output_type": "stream",
     "text": [
      "kiwi\n"
     ]
    }
   ],
   "source": [
    "fruits = ['banana','apple', 'mango', 'kiwi']\n",
    "shortest_fruit = fruits[0]\n",
    "for word in fruits:\n",
    "    if len(word) < len(shortest_fruit):\n",
    "        shortest_fruit = word\n",
    "print(shortest_fruit)"
   ]
  },
  {
   "cell_type": "markdown",
   "metadata": {},
   "source": [
    "# 3. Using loops and conditions, count occurrence of numbers, letters and other symbols in the string\n",
    "Example\n",
    "```python\n",
    "'''What a to do to die today at a 1/4 or 2 to 2. \n",
    "A terrible difficult thing to say but a harder thing still to do. \n",
    "The dragon will come at the beat of the drum with a rat-tat-tat-tat-tat-tattoo \n",
    "at a 1/4 or 2 to 2 today, at a 1/4 or 2 to 2.'''\n",
    "Number occurence: 12\n",
    "Letter occurence: 158\n",
    "Other symbols: 66\n",
    "```"
   ]
  },
  {
   "cell_type": "code",
   "execution_count": 3,
   "metadata": {},
   "outputs": [
    {
     "name": "stdout",
     "output_type": "stream",
     "text": [
      "Number occurence: 12\n",
      "Letter occurence: 158\n",
      "Other symbols: 66\n",
      "\n"
     ]
    }
   ],
   "source": [
    "import string\n",
    "numbers = list(string.digits)\n",
    "letters = list(string.ascii_letters)\n",
    "symbols = list(string.punctuation)\n",
    "symbols.append(' ')\n",
    "text = '''What a to do to die today at a 1/4 or 2 to 2. \n",
    "A terrible difficult thing to say but a harder thing still to do. \n",
    "The dragon will come at the beat of the drum with a rat-tat-tat-tat-tat-tattoo \n",
    "at a 1/4 or 2 to 2 today, at a 1/4 or 2 to 2.'''\n",
    "n=0\n",
    "l=0\n",
    "s=0\n",
    "for elem in text:\n",
    "    for nr in numbers:\n",
    "        if elem == nr:\n",
    "            n += 1\n",
    "    for lt in letters:\n",
    "        if elem == lt:\n",
    "            l += 1\n",
    "    for sm in symbols:\n",
    "        if elem == sm:\n",
    "            s += 1\n",
    "print('''Number occurence: {0}\n",
    "Letter occurence: {1}\n",
    "Other symbols: {2}\n",
    "'''.format(n,l,s))"
   ]
  },
  {
   "cell_type": "markdown",
   "metadata": {},
   "source": [
    "# 4. Calculate dog's age in human years using [this article](https://pets.webmd.com/dogs/how-to-calculate-your-dogs-age)\n",
    "*Note: for simplicity, use values for medium dogs*"
   ]
  },
  {
   "cell_type": "code",
   "execution_count": 4,
   "metadata": {},
   "outputs": [
    {
     "name": "stdout",
     "output_type": "stream",
     "text": [
      "Enter dog's age: 7\n",
      "Dog's age in human years is:  47\n"
     ]
    }
   ],
   "source": [
    "converted_age = [15, 24, 18, 32, 36, 42, 47, 51, 56, 60, 65, 69, 74, \n",
    "                78, 83, 87]\n",
    "dog_age = int(input(\"Enter dog's age: \"))\n",
    "for nr, val in enumerate(converted_age, start = 1):\n",
    "    if dog_age == nr:\n",
    "        print(\"Dog's age in human years is: \", val)"
   ]
  },
  {
   "cell_type": "markdown",
   "metadata": {},
   "source": [
    "# 5. Count the number of even and odd numbers from a series of numbers.\n",
    "```python\n",
    "seq = [1,44,30,15,2,18]\n",
    "```\n",
    "Odd numbers: 2\n",
    "Even numbers: 4"
   ]
  },
  {
   "cell_type": "code",
   "execution_count": 5,
   "metadata": {},
   "outputs": [
    {
     "name": "stdout",
     "output_type": "stream",
     "text": [
      "Odd numbers: 2\n",
      "Even numbers: 4\n"
     ]
    }
   ],
   "source": [
    "seq = [1,44,30,15,2,18]\n",
    "odd = 0\n",
    "even = 0\n",
    "for nr in seq:\n",
    "    if nr % 2 == 1:\n",
    "        odd += 1\n",
    "    else:\n",
    "        even += 1\n",
    "print('Odd numbers: {0}\\nEven numbers: {1}'.format(odd,even))"
   ]
  },
  {
   "cell_type": "markdown",
   "metadata": {},
   "source": [
    "# 6. Using loops, print following pattern\n",
    "```\n",
    "*\n",
    "**\n",
    "***\n",
    "****\n",
    "```"
   ]
  },
  {
   "cell_type": "code",
   "execution_count": 6,
   "metadata": {},
   "outputs": [
    {
     "name": "stdout",
     "output_type": "stream",
     "text": [
      "*\n",
      "**\n",
      "***\n",
      "****\n"
     ]
    }
   ],
   "source": [
    "star = '*'\n",
    "for nr in range(0,4):\n",
    "    print(star)\n",
    "    star = star + '*'"
   ]
  },
  {
   "cell_type": "markdown",
   "metadata": {},
   "source": [
    "# 7. Using list comprehensions, transform all vowels within the string to upper case\n",
    "\n",
    "example `python -> pYthOn`"
   ]
  },
  {
   "cell_type": "code",
   "execution_count": 7,
   "metadata": {},
   "outputs": [
    {
     "name": "stdout",
     "output_type": "stream",
     "text": [
      "pYthOn\n"
     ]
    }
   ],
   "source": [
    "vowels = 'aeiouy'\n",
    "text = 'python'\n",
    "seq = list(text)\n",
    "for i,v in enumerate(seq):\n",
    "    for j in vowels:\n",
    "        if v == j:\n",
    "            seq[i] = j.upper()\n",
    "print(''.join(seq))     "
   ]
  },
  {
   "cell_type": "markdown",
   "metadata": {},
   "source": [
    "# 8. Print position number of the letter\n",
    "1. Ask user to type letter (just one)\n",
    "2. Print position of the letter in the alphabet\n",
    "\n",
    "Example\n",
    "```\n",
    "Type letter: B\n",
    "Letter B position is 2.\n",
    "```"
   ]
  },
  {
   "cell_type": "code",
   "execution_count": 8,
   "metadata": {},
   "outputs": [
    {
     "name": "stdout",
     "output_type": "stream",
     "text": [
      "Type a letter: V\n",
      "Letter V in in position 22.\n"
     ]
    }
   ],
   "source": [
    "import string\n",
    "alphabet = list(string.ascii_uppercase)\n",
    "letter = input('Type a letter: ')\n",
    "for i,val in enumerate(alphabet, start = 1):\n",
    "    if letter == val:\n",
    "        print('Letter {0} in in position {1}.'.format(val,i))\n",
    "        break"
   ]
  },
  {
   "cell_type": "markdown",
   "metadata": {},
   "source": [
    "# 9. Find the median of three values (do not used median function)\n",
    "Ask user to input 3 values\n",
    "Example\n",
    "```\n",
    "Type number:5\n",
    "Type number:12\n",
    "Type number:6\n",
    "\n",
    "Median value is 5.\n",
    "```\n"
   ]
  },
  {
   "cell_type": "code",
   "execution_count": 9,
   "metadata": {},
   "outputs": [
    {
     "name": "stdout",
     "output_type": "stream",
     "text": [
      "Type first number: 72\n",
      "Type second number: 7\n",
      "Type third number: 12\n",
      "Median value is 12.\n"
     ]
    }
   ],
   "source": [
    "nr1 = int(input('Type first number: '))\n",
    "nr2 = int(input('Type second number: '))\n",
    "nr3 = int(input('Type third number: '))\n",
    "if (nr1 > nr2) and (nr2 > nr3):\n",
    "    med = nr2\n",
    "elif (nr3 > nr2) and (nr2 > nr1):\n",
    "    med = nr2\n",
    "elif (nr1 > nr3) and (nr3 > nr2):\n",
    "    med = nr3\n",
    "elif (nr2 > nr3) and (nr3 > nr1):\n",
    "    med = nr3\n",
    "elif (nr2 > nr1) and (nr1 > nr3):\n",
    "    med = nr1\n",
    "elif (nr3 > nr1) and (nr1 > nr2):\n",
    "    med = nr1\n",
    "print('Median value is {0}.'.format(med))"
   ]
  },
  {
   "cell_type": "markdown",
   "metadata": {},
   "source": [
    "# 10. Using `break` and `continue` statements, print numbers\n",
    "1. Ask user for their favourite number \n",
    "2. If youser chose number 13, ask user for another number\n",
    "3. Do not print number 13\n",
    "4. Finish printing after user's favourite number"
   ]
  },
  {
   "cell_type": "code",
   "execution_count": 10,
   "metadata": {},
   "outputs": [
    {
     "name": "stdout",
     "output_type": "stream",
     "text": [
      "Type your favourite number: 21\n",
      "0\n",
      "1\n",
      "2\n",
      "3\n",
      "4\n",
      "5\n",
      "6\n",
      "7\n",
      "8\n",
      "9\n",
      "10\n",
      "11\n",
      "12\n",
      "14\n",
      "15\n",
      "16\n",
      "17\n",
      "18\n",
      "19\n",
      "20\n",
      "21\n"
     ]
    }
   ],
   "source": [
    "number = int(input('Type your favourite number: '))\n",
    "nr = 0\n",
    "if number == 13:\n",
    "    number = int(input('Type another number: '))\n",
    "while True:\n",
    "    if nr != 13:\n",
    "        print(nr)\n",
    "        if nr == number:\n",
    "            break\n",
    "        nr += 1\n",
    "    else:\n",
    "        nr += 1\n",
    "        continue"
   ]
  },
  {
   "cell_type": "markdown",
   "metadata": {},
   "source": [
    "# BONUS: Using nested loops, print first letter of your name:\n",
    "\n",
    "```\n",
    "  ***                                                                   \n",
    " *   *                                                                  \n",
    " *   *                                                                  \n",
    " *****                                                                  \n",
    " *   *                                                                  \n",
    " *   *                                                                  \n",
    " *   *\n",
    "```"
   ]
  },
  {
   "cell_type": "code",
   "execution_count": 11,
   "metadata": {},
   "outputs": [
    {
     "name": "stdout",
     "output_type": "stream",
     "text": [
      "*   *  \n",
      "*   *  \n",
      "*   *  \n",
      " * *   \n",
      "  *    \n",
      "\n"
     ]
    }
   ],
   "source": [
    "letter = ''\n",
    "for i in range(1,6):\n",
    "    for j in range(1,8):\n",
    "        if (((i == 1) or (i == 2) or (i == 3)) and ((j == 1) or (j == 5))) or ((i == 4) and ((j == 2) or (j == 4))) or ((i == 5) and (j == 3)):\n",
    "            letter = letter + '*'\n",
    "        else:\n",
    "            letter = letter + ' '\n",
    "    letter = letter + '\\n'\n",
    "print(letter)"
   ]
  },
  {
   "cell_type": "code",
   "execution_count": null,
   "metadata": {},
   "outputs": [],
   "source": []
  }
 ],
 "metadata": {
  "kernelspec": {
   "display_name": "Python 3",
   "language": "python",
   "name": "python3"
  },
  "language_info": {
   "codemirror_mode": {
    "name": "ipython",
    "version": 3
   },
   "file_extension": ".py",
   "mimetype": "text/x-python",
   "name": "python",
   "nbconvert_exporter": "python",
   "pygments_lexer": "ipython3",
   "version": "3.6.6+"
  }
 },
 "nbformat": 4,
 "nbformat_minor": 2
}
