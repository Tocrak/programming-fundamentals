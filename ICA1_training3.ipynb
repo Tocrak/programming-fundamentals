{
 "cells": [
  {
   "cell_type": "code",
   "execution_count": 26,
   "metadata": {},
   "outputs": [],
   "source": [
    "def convert_si(val, unit_in, unit_out):\n",
    "    if unit_in == 'm':\n",
    "        if unit_out == 'cm':\n",
    "            unit_out = str(val*100)\n",
    "        elif unit_out == 'km':\n",
    "            unit_out = str(val/1000)\n",
    "        else:\n",
    "            unit_out = str(val)\n",
    "    elif unit_in == 'cm':\n",
    "        if unit_out == 'm':\n",
    "            unit_out = str(val/100)\n",
    "        elif unit_out == 'km':\n",
    "            unit_out = str(val/100000)\n",
    "        else:\n",
    "            unit_out = str(val)\n",
    "    elif unit_in == 'km':\n",
    "        if unit_out == 'm':\n",
    "            unit_out = str(val*1000)\n",
    "        elif unit_out == 'cm':\n",
    "            unit_out = str(val*100000)\n",
    "        else:\n",
    "            unit_out = str(val)\n",
    "    return float(unit_out)"
   ]
  },
  {
   "cell_type": "code",
   "execution_count": 27,
   "metadata": {},
   "outputs": [
    {
     "data": {
      "text/plain": [
       "30000.0"
      ]
     },
     "execution_count": 27,
     "metadata": {},
     "output_type": "execute_result"
    }
   ],
   "source": [
    "convert_si(30, 'km', 'm')"
   ]
  },
  {
   "cell_type": "code",
   "execution_count": null,
   "metadata": {},
   "outputs": [],
   "source": []
  }
 ],
 "metadata": {
  "kernelspec": {
   "display_name": "Python 3",
   "language": "python",
   "name": "python3"
  },
  "language_info": {
   "codemirror_mode": {
    "name": "ipython",
    "version": 3
   },
   "file_extension": ".py",
   "mimetype": "text/x-python",
   "name": "python",
   "nbconvert_exporter": "python",
   "pygments_lexer": "ipython3",
   "version": "3.6.6+"
  }
 },
 "nbformat": 4,
 "nbformat_minor": 2
}
